{
 "cells": [
  {
   "cell_type": "markdown",
   "id": "5b3a29b5-cf5d-4efe-b5cb-c2e354ae3945",
   "metadata": {},
   "source": [
    "# 1. Write a Python Program to Find the Factorial of a Number?"
   ]
  },
  {
   "cell_type": "code",
   "execution_count": 3,
   "id": "cc151ef3-836f-4081-be08-2c4ec698ec5c",
   "metadata": {},
   "outputs": [
    {
     "name": "stdin",
     "output_type": "stream",
     "text": [
      "enter number:  0\n"
     ]
    },
    {
     "name": "stdout",
     "output_type": "stream",
     "text": [
      "factorial of 0 is : 1\n"
     ]
    }
   ],
   "source": [
    "n = int(input(\"enter number: \"))\n",
    "fact = 1\n",
    "for i in range(1,n+1):\n",
    "    fact = fact*i\n",
    "print(f\"factorial of {n} is : {fact}\")    \n",
    "    "
   ]
  },
  {
   "cell_type": "code",
   "execution_count": 4,
   "id": "59d4dd31-6db1-4acd-8e48-2c2a80442599",
   "metadata": {},
   "outputs": [
    {
     "name": "stdin",
     "output_type": "stream",
     "text": [
      "enter number:  5\n"
     ]
    },
    {
     "name": "stdout",
     "output_type": "stream",
     "text": [
      "factorial of 5 is : 120\n"
     ]
    }
   ],
   "source": [
    "n = int(input(\"enter number: \"))\n",
    "fact = 1\n",
    "for i in range(1,n+1):\n",
    "    fact = fact*i\n",
    "print(f\"factorial of {n} is : {fact}\")    \n",
    "    "
   ]
  },
  {
   "cell_type": "markdown",
   "id": "8b05b697-f0f6-4d9d-a21f-f63bd2b452ad",
   "metadata": {},
   "source": [
    "# 2. Write a Python Program to Display the multiplication Table?"
   ]
  },
  {
   "cell_type": "code",
   "execution_count": 4,
   "id": "47da5a01-13fe-436a-8a4f-a6c7344cdbfa",
   "metadata": {},
   "outputs": [
    {
     "name": "stdin",
     "output_type": "stream",
     "text": [
      "enter number:  2\n"
     ]
    },
    {
     "name": "stdout",
     "output_type": "stream",
     "text": [
      "2*1 = 2\n",
      "2*2 = 4\n",
      "2*3 = 6\n",
      "2*4 = 8\n",
      "2*5 = 10\n",
      "2*6 = 12\n",
      "2*7 = 14\n",
      "2*8 = 16\n",
      "2*9 = 18\n",
      "2*10 = 20\n"
     ]
    }
   ],
   "source": [
    "n = int(input(\"enter number: \"))\n",
    "for i in range(1,11):\n",
    "    print(f\"{n}*{i} = {n*i}\")"
   ]
  },
  {
   "cell_type": "code",
   "execution_count": 5,
   "id": "d16ba34e-003a-4ccc-813b-076b3cb8205e",
   "metadata": {},
   "outputs": [
    {
     "name": "stdin",
     "output_type": "stream",
     "text": [
      "enter number:  19\n"
     ]
    },
    {
     "name": "stdout",
     "output_type": "stream",
     "text": [
      "19*1 = 19\n",
      "19*2 = 38\n",
      "19*3 = 57\n",
      "19*4 = 76\n",
      "19*5 = 95\n",
      "19*6 = 114\n",
      "19*7 = 133\n",
      "19*8 = 152\n",
      "19*9 = 171\n",
      "19*10 = 190\n"
     ]
    }
   ],
   "source": [
    "n = int(input(\"enter number: \"))\n",
    "for i in range(1,11):\n",
    "    print(f\"{n}*{i} = {n*i}\")"
   ]
  },
  {
   "cell_type": "code",
   "execution_count": 6,
   "id": "1398d47f-0b66-4d13-8e0e-53b03ac30e53",
   "metadata": {},
   "outputs": [
    {
     "name": "stdin",
     "output_type": "stream",
     "text": [
      "enter number:  100\n"
     ]
    },
    {
     "name": "stdout",
     "output_type": "stream",
     "text": [
      "100*1 = 100\n",
      "100*2 = 200\n",
      "100*3 = 300\n",
      "100*4 = 400\n",
      "100*5 = 500\n",
      "100*6 = 600\n",
      "100*7 = 700\n",
      "100*8 = 800\n",
      "100*9 = 900\n",
      "100*10 = 1000\n"
     ]
    }
   ],
   "source": [
    "n = int(input(\"enter number: \"))\n",
    "for i in range(1,11):\n",
    "    print(f\"{n}*{i} = {n*i}\")"
   ]
  },
  {
   "cell_type": "markdown",
   "id": "1ed969e4-6bfd-4347-835d-d3434e17f582",
   "metadata": {},
   "source": [
    "# 3. Write a Python Program to Print the Fibonacci sequence?"
   ]
  },
  {
   "cell_type": "code",
   "execution_count": 24,
   "id": "2d76a6d0-1ecd-4cc8-b32d-a3bef64d5da0",
   "metadata": {},
   "outputs": [
    {
     "name": "stdin",
     "output_type": "stream",
     "text": [
      "Enter the limit :  8\n"
     ]
    },
    {
     "name": "stdout",
     "output_type": "stream",
     "text": [
      "0\n",
      "1\n",
      "1\n",
      "2\n",
      "3\n",
      "5\n",
      "8\n",
      "13\n"
     ]
    }
   ],
   "source": [
    "limit = int(input(\"Enter the limit : \"))\n",
    "if limit <0:\n",
    "    print(\"incorrect input\")\n",
    "\n",
    "elif limit ==1:\n",
    "    print(0)\n",
    "elif limit == 2:\n",
    "    print(0,1)\n",
    "else:    \n",
    "    first = 0\n",
    "    second  = 1\n",
    "    print(first)\n",
    "    print(second)\n",
    "    for i in range(limit-2):\n",
    "        next = first + second\n",
    "        print(next)\n",
    "        first = second\n",
    "        second = next\n",
    "\n"
   ]
  },
  {
   "cell_type": "code",
   "execution_count": 25,
   "id": "6f6f1786-85c2-4d98-b0b2-f5f739b86f7b",
   "metadata": {},
   "outputs": [
    {
     "name": "stdin",
     "output_type": "stream",
     "text": [
      "Enter the limit :  2\n"
     ]
    },
    {
     "name": "stdout",
     "output_type": "stream",
     "text": [
      "0 1\n"
     ]
    }
   ],
   "source": [
    "limit = int(input(\"Enter the limit : \"))\n",
    "if limit <0:\n",
    "    print(\"incorrect input\")\n",
    "\n",
    "elif limit ==1:\n",
    "    print(0)\n",
    "elif limit == 2:\n",
    "    print(0,1)\n",
    "else:    \n",
    "    first = 0\n",
    "    second  = 1\n",
    "    print(first)\n",
    "    print(second)\n",
    "    for i in range(limit-2):\n",
    "        next = first + second\n",
    "        print(next)\n",
    "        first = second\n",
    "        second = next\n"
   ]
  },
  {
   "cell_type": "code",
   "execution_count": 26,
   "id": "64c2d7a5-7c03-4a55-a54f-8c5f0df395dd",
   "metadata": {},
   "outputs": [
    {
     "name": "stdin",
     "output_type": "stream",
     "text": [
      "Enter the limit :  -10\n"
     ]
    },
    {
     "name": "stdout",
     "output_type": "stream",
     "text": [
      "incorrect input\n"
     ]
    }
   ],
   "source": [
    "limit = int(input(\"Enter the limit : \"))\n",
    "if limit <0:\n",
    "    print(\"incorrect input\")\n",
    "\n",
    "elif limit ==1:\n",
    "    print(0)\n",
    "elif limit == 2:\n",
    "    print(0,1)\n",
    "else:    \n",
    "    first = 0\n",
    "    second  = 1\n",
    "    print(first)\n",
    "    print(second)\n",
    "    for i in range(limit-2):\n",
    "        next = first + second\n",
    "        print(next)\n",
    "        first = second\n",
    "        second = next\n"
   ]
  },
  {
   "cell_type": "code",
   "execution_count": 63,
   "id": "c88037a9-2bdb-4c75-a035-18c14c3e4c2c",
   "metadata": {},
   "outputs": [
    {
     "name": "stdin",
     "output_type": "stream",
     "text": [
      "Enter the limit :  30\n"
     ]
    },
    {
     "name": "stdout",
     "output_type": "stream",
     "text": [
      "0\n",
      "1\n",
      "1\n",
      "2\n",
      "3\n",
      "5\n",
      "8\n",
      "13\n",
      "21\n",
      "34\n",
      "55\n",
      "89\n",
      "144\n",
      "233\n",
      "377\n",
      "610\n",
      "987\n",
      "1597\n",
      "2584\n",
      "4181\n",
      "6765\n",
      "10946\n",
      "17711\n",
      "28657\n",
      "46368\n",
      "75025\n",
      "121393\n",
      "196418\n",
      "317811\n",
      "514229\n"
     ]
    }
   ],
   "source": [
    "limit = int(input(\"Enter the limit : \"))\n",
    "if limit <0:\n",
    "    print(\"incorrect input\")\n",
    "\n",
    "elif limit ==1:\n",
    "    print(0)\n",
    "elif limit == 2:\n",
    "    print(0,1)\n",
    "else:    \n",
    "    first = 0\n",
    "    second  = 1\n",
    "    print(first)\n",
    "    print(second)\n",
    "    for i in range(limit-2):\n",
    "        next = first + second\n",
    "        print(next)\n",
    "        first = second\n",
    "        second = next"
   ]
  },
  {
   "cell_type": "markdown",
   "id": "b7056aaf-536d-4a80-b34d-1e4798df31e3",
   "metadata": {},
   "source": [
    "# 4. Write a Python Program to Check Armstrong Number?"
   ]
  },
  {
   "cell_type": "code",
   "execution_count": 58,
   "id": "b97f0b5e-98b0-4868-a1a3-404c3f500c4f",
   "metadata": {},
   "outputs": [
    {
     "name": "stdin",
     "output_type": "stream",
     "text": [
      "enter number:  153\n"
     ]
    },
    {
     "name": "stdout",
     "output_type": "stream",
     "text": [
      "Armstrong\n"
     ]
    }
   ],
   "source": [
    "n = input(\"enter number: \")\n",
    "Sum = 0\n",
    "digit = len(n)\n",
    "for i in n:\n",
    "    Sum = Sum + (int(i))**digit\n",
    "if Sum == int(n):\n",
    "    print(\"Armstrong\")\n",
    "else:\n",
    "    print(\"Not Armstrong\")\n"
   ]
  },
  {
   "cell_type": "code",
   "execution_count": 59,
   "id": "c2e046a4-5ff4-4648-9932-9c61a2cbcc04",
   "metadata": {},
   "outputs": [
    {
     "name": "stdin",
     "output_type": "stream",
     "text": [
      "enter number:  5\n"
     ]
    },
    {
     "name": "stdout",
     "output_type": "stream",
     "text": [
      "Armstrong\n"
     ]
    }
   ],
   "source": [
    "n = input(\"enter number: \")\n",
    "Sum = 0\n",
    "digit = len(n)\n",
    "for i in n:\n",
    "    Sum = Sum + (int(i))**digit\n",
    "if Sum == int(n):\n",
    "    print(\"Armstrong\")\n",
    "else:\n",
    "    print(\"Not Armstrong\")\n"
   ]
  },
  {
   "cell_type": "code",
   "execution_count": 60,
   "id": "7081c9c8-7bde-4b7c-ba7d-318026700483",
   "metadata": {},
   "outputs": [
    {
     "name": "stdin",
     "output_type": "stream",
     "text": [
      "enter number:  150\n"
     ]
    },
    {
     "name": "stdout",
     "output_type": "stream",
     "text": [
      "Not Armstrong\n"
     ]
    }
   ],
   "source": [
    "n = input(\"enter number: \")\n",
    "Sum = 0\n",
    "digit = len(n)\n",
    "for i in n:\n",
    "    Sum = Sum + (int(i))**digit\n",
    "if Sum == int(n):\n",
    "    print(\"Armstrong\")\n",
    "else:\n",
    "    print(\"Not Armstrong\")\n"
   ]
  },
  {
   "cell_type": "code",
   "execution_count": 61,
   "id": "adc5b548-9bce-4922-afe0-50893a5daa55",
   "metadata": {},
   "outputs": [
    {
     "name": "stdin",
     "output_type": "stream",
     "text": [
      "enter number:  407\n"
     ]
    },
    {
     "name": "stdout",
     "output_type": "stream",
     "text": [
      "Armstrong\n"
     ]
    }
   ],
   "source": [
    "n = input(\"enter number: \")\n",
    "Sum = 0\n",
    "digit = len(n)\n",
    "for i in n:\n",
    "    Sum = Sum + (int(i))**digit\n",
    "if Sum == int(n):\n",
    "    print(\"Armstrong\")\n",
    "else:\n",
    "    print(\"Not Armstrong\")\n"
   ]
  },
  {
   "cell_type": "markdown",
   "id": "47981b60-4a63-4ccf-b8bf-2ccbbe069885",
   "metadata": {},
   "source": [
    "# 5. Write a Python Program to Find Armstrong Number in an Interval?"
   ]
  },
  {
   "cell_type": "code",
   "execution_count": 52,
   "id": "62e7d8e8-585e-4dff-ad0f-1397cb07ebbc",
   "metadata": {},
   "outputs": [],
   "source": [
    "def armstrong(a,b):\n",
    "    for j in range(a,b+1):\n",
    "        n = str(j)\n",
    "        digit=len(n)\n",
    "        Sum = 0\n",
    "        for i in n:\n",
    "            Sum = Sum + (int(i))**digit\n",
    "        if Sum == int(n):\n",
    "            print(Sum)\n",
    "      "
   ]
  },
  {
   "cell_type": "code",
   "execution_count": 53,
   "id": "c0442734-8513-4230-b995-1658d71a83f8",
   "metadata": {},
   "outputs": [
    {
     "name": "stdout",
     "output_type": "stream",
     "text": [
      "2\n",
      "3\n",
      "4\n",
      "5\n",
      "6\n",
      "7\n",
      "8\n",
      "9\n",
      "153\n"
     ]
    }
   ],
   "source": [
    "armstrong(2,200)"
   ]
  },
  {
   "cell_type": "code",
   "execution_count": 57,
   "id": "30949053-f06f-4695-b55b-2250bf84eb21",
   "metadata": {},
   "outputs": [
    {
     "name": "stdout",
     "output_type": "stream",
     "text": [
      "1\n",
      "2\n",
      "3\n",
      "4\n",
      "5\n",
      "6\n",
      "7\n",
      "8\n",
      "9\n",
      "153\n",
      "370\n",
      "371\n",
      "407\n"
     ]
    }
   ],
   "source": [
    "armstrong(1,500)"
   ]
  },
  {
   "cell_type": "markdown",
   "id": "860506c2-ffe1-4ff9-a49c-8ff95bcc17be",
   "metadata": {},
   "source": [
    "# 6. Write a Python Program to Find the Sum of Natural Numbers?"
   ]
  },
  {
   "cell_type": "code",
   "execution_count": 7,
   "id": "b8058426-02da-40dc-a89d-b8e7786f08a1",
   "metadata": {},
   "outputs": [
    {
     "name": "stdin",
     "output_type": "stream",
     "text": [
      "enter a number upto which you want to find sum:  5\n"
     ]
    },
    {
     "name": "stdout",
     "output_type": "stream",
     "text": [
      "The sum = 15.0\n"
     ]
    }
   ],
   "source": [
    "n= int(input(\"enter a number upto which you want to find sum: \"))\n",
    "sum = (n*(n+1))/2 \n",
    "print(f\"The sum = {sum}\")\n",
    "       "
   ]
  },
  {
   "cell_type": "code",
   "execution_count": 8,
   "id": "358b54ef-0b0d-4b2b-bdb3-f763edf0ac83",
   "metadata": {},
   "outputs": [
    {
     "name": "stdin",
     "output_type": "stream",
     "text": [
      "enter a number upto which you want to find sum:  100\n"
     ]
    },
    {
     "name": "stdout",
     "output_type": "stream",
     "text": [
      "The sum = 5050.0\n"
     ]
    }
   ],
   "source": [
    "n= int(input(\"enter a number upto which you want to find sum: \"))\n",
    "sum = (n*(n+1))/2 \n",
    "print(f\"The sum = {sum}\")"
   ]
  },
  {
   "cell_type": "code",
   "execution_count": 62,
   "id": "b5105228-897d-4760-bb89-c81934d8eb24",
   "metadata": {},
   "outputs": [
    {
     "name": "stdin",
     "output_type": "stream",
     "text": [
      "enter a number upto which you want to find sum:  1000\n"
     ]
    },
    {
     "name": "stdout",
     "output_type": "stream",
     "text": [
      "The sum = 500500.0\n"
     ]
    }
   ],
   "source": [
    "n= int(input(\"enter a number upto which you want to find sum: \"))\n",
    "sum = (n*(n+1))/2 \n",
    "print(f\"The sum = {sum}\")"
   ]
  },
  {
   "cell_type": "markdown",
   "id": "56f0c829-de48-48ee-a393-8e433e9ad2c3",
   "metadata": {},
   "source": [
    "# End of Assignment\n",
    "# Abhishek Mohan"
   ]
  },
  {
   "cell_type": "code",
   "execution_count": null,
   "id": "b0045d24-40a2-43c4-a97b-a56365dbde30",
   "metadata": {},
   "outputs": [],
   "source": []
  }
 ],
 "metadata": {
  "kernelspec": {
   "display_name": "Python 3 (ipykernel)",
   "language": "python",
   "name": "python3"
  },
  "language_info": {
   "codemirror_mode": {
    "name": "ipython",
    "version": 3
   },
   "file_extension": ".py",
   "mimetype": "text/x-python",
   "name": "python",
   "nbconvert_exporter": "python",
   "pygments_lexer": "ipython3",
   "version": "3.10.6"
  }
 },
 "nbformat": 4,
 "nbformat_minor": 5
}
