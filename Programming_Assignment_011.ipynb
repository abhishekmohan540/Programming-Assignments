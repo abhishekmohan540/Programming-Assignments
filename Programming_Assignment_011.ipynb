{
 "cells": [
  {
   "cell_type": "markdown",
   "id": "1971adcd-86bc-454a-b9d6-c2a6267811e3",
   "metadata": {},
   "source": [
    "# 1. Write a Python program to find words which are greater than given length k?"
   ]
  },
  {
   "cell_type": "code",
   "execution_count": 2,
   "id": "ac04463b-091a-4ba6-bf69-aa3929e80c41",
   "metadata": {},
   "outputs": [
    {
     "name": "stdout",
     "output_type": "stream",
     "text": [
      "['quick', 'brown', 'jumps']\n"
     ]
    }
   ],
   "source": [
    "def words_greater_than_k(text, k):\n",
    "    words = text.split()\n",
    "    long_words = []\n",
    "    for word in words:\n",
    "        if len(word) > k:\n",
    "            long_words.append(word)\n",
    "\n",
    "    return long_words\n",
    "text = \"The quick brown fox jumps over the lazy dog\"\n",
    "k = 4\n",
    "long_words = words_greater_than_k(text, k)\n",
    "print(long_words)"
   ]
  },
  {
   "cell_type": "markdown",
   "id": "c91c01aa-6146-4bf8-bcd4-76d171d14892",
   "metadata": {},
   "source": [
    "# 2. Write a Python program for removing i-th character from a string?"
   ]
  },
  {
   "cell_type": "code",
   "execution_count": 3,
   "id": "d4edceae-0093-4a32-b4c0-11e1f3a01d14",
   "metadata": {},
   "outputs": [
    {
     "name": "stdout",
     "output_type": "stream",
     "text": [
      "Hell, World!\n"
     ]
    }
   ],
   "source": [
    "def remove_char_at_index(s, i):\n",
    "\n",
    "    if i < 0 or i >= len(s):\n",
    "        return s\n",
    "    chars = list(s)\n",
    "    del chars[i]\n",
    "    new_s = ''.join(chars)\n",
    "    return new_s\n",
    "s = \"Hello, World!\"\n",
    "i = 4\n",
    "new_s = remove_char_at_index(s, i)\n",
    "print(new_s)"
   ]
  },
  {
   "cell_type": "markdown",
   "id": "c4a2c0cb-36af-4668-af84-6c640860f43a",
   "metadata": {},
   "source": [
    "# 3. Write a Python program to split and join a string?"
   ]
  },
  {
   "cell_type": "code",
   "execution_count": 4,
   "id": "4851dcaa-dcfb-432c-9d8f-7f3ba93dd67a",
   "metadata": {},
   "outputs": [
    {
     "name": "stdout",
     "output_type": "stream",
     "text": [
      "This is my demo string\n"
     ]
    }
   ],
   "source": [
    "def split_and_join(s):\n",
    "    words = s.split()\n",
    "    new_s = ' '.join(words)\n",
    "    return new_s\n",
    "s = \"This is my demo string\"\n",
    "new_s = split_and_join(s)\n",
    "print(new_s)"
   ]
  },
  {
   "cell_type": "code",
   "execution_count": 5,
   "id": "db381e10-61de-4be3-8c4b-a5c243b48b12",
   "metadata": {},
   "outputs": [
    {
     "name": "stdout",
     "output_type": "stream",
     "text": [
      "India is my country\n"
     ]
    }
   ],
   "source": [
    "def split_and_join(s):\n",
    "    words = s.split()\n",
    "    new_s = ' '.join(words)\n",
    "    return new_s\n",
    "s = \"India is my country\"\n",
    "new_s = split_and_join(s)\n",
    "print(new_s)"
   ]
  },
  {
   "cell_type": "markdown",
   "id": "f3850f96-64f6-40ad-b31c-dafc98244b4f",
   "metadata": {},
   "source": [
    "# 4. Write a Python to check if a given string is binary string or not?"
   ]
  },
  {
   "cell_type": "code",
   "execution_count": 6,
   "id": "64c17269-f983-4914-b545-295443881517",
   "metadata": {},
   "outputs": [
    {
     "name": "stdout",
     "output_type": "stream",
     "text": [
      "True\n"
     ]
    }
   ],
   "source": [
    "def is_binary_string(s):\n",
    "    for c in s:\n",
    "        if c != '0' and c != '1':\n",
    "            return False\n",
    "    return True\n",
    "s = \"101010\"\n",
    "is_binary = is_binary_string(s)\n",
    "print(is_binary)"
   ]
  },
  {
   "cell_type": "code",
   "execution_count": 7,
   "id": "445b0b21-b0e6-45b8-bcd1-4ac249b67a93",
   "metadata": {},
   "outputs": [
    {
     "name": "stdout",
     "output_type": "stream",
     "text": [
      "False\n"
     ]
    }
   ],
   "source": [
    "def is_binary_string(s):\n",
    "    for c in s:\n",
    "        if c != '0' and c != '1':\n",
    "            return False\n",
    "    return True\n",
    "s = \"1012503\"\n",
    "is_binary = is_binary_string(s)\n",
    "print(is_binary)"
   ]
  },
  {
   "cell_type": "markdown",
   "id": "613795e4-748f-4fc7-b4a8-957a4463fdd4",
   "metadata": {},
   "source": [
    "# 5. Write a Python program to find uncommon words from two Strings?"
   ]
  },
  {
   "cell_type": "code",
   "execution_count": 8,
   "id": "e3403072-f723-492e-b123-3234a75ed326",
   "metadata": {},
   "outputs": [
    {
     "name": "stdout",
     "output_type": "stream",
     "text": [
      "['dog', 'cat', 'red', 'brown']\n"
     ]
    }
   ],
   "source": [
    "def find_uncommon_words(s1, s2):\n",
    "    words1 = s1.split()\n",
    "    words2 = s2.split()\n",
    "    unique_words1 = set(words1)\n",
    "    unique_words2 = set(words2)\n",
    "    uncommon_words = (unique_words1 - unique_words2) | (unique_words2 - unique_words1)\n",
    "    return list(uncommon_words)\n",
    "\n",
    "s1 = \"the quick brown fox jumps over the lazy dog\"\n",
    "s2 = \"the quick red fox jumps over the lazy cat\"\n",
    "uncommon_words = find_uncommon_words(s1, s2)\n",
    "print(uncommon_words)"
   ]
  },
  {
   "cell_type": "code",
   "execution_count": 10,
   "id": "2dba8df2-31eb-48d1-b4cb-56f1b48b6c08",
   "metadata": {},
   "outputs": [
    {
     "name": "stdout",
     "output_type": "stream",
     "text": [
      "['its', 'development', 'for', 'great', 'country', 'praised', 'a']\n"
     ]
    }
   ],
   "source": [
    "def find_uncommon_words(s1, s2):\n",
    "    words1 = s1.split()\n",
    "    words2 = s2.split()\n",
    "    unique_words1 = set(words1)\n",
    "    unique_words2 = set(words2)\n",
    "    uncommon_words = (unique_words1 - unique_words2) | (unique_words2 - unique_words1)\n",
    "    return list(uncommon_words)\n",
    "\n",
    "s1 = \"India is a great country in the world\"\n",
    "s2 = \"India is praised for its development in the world\"\n",
    "uncommon_words = find_uncommon_words(s1, s2)\n",
    "print(uncommon_words)"
   ]
  },
  {
   "cell_type": "markdown",
   "id": "26b23fc3-6221-40e9-833c-30931c34a593",
   "metadata": {},
   "source": [
    "# 6. Write a Python to find all duplicate characters in string?"
   ]
  },
  {
   "cell_type": "code",
   "execution_count": 11,
   "id": "14b73e73-c22a-48d5-b922-400e614988a3",
   "metadata": {},
   "outputs": [
    {
     "name": "stdout",
     "output_type": "stream",
     "text": [
      "{'l', 'o'}\n"
     ]
    }
   ],
   "source": [
    "def find_duplicate_chars(s):\n",
    "    duplicates = set()\n",
    "    seen_chars = set()\n",
    "    for c in s:\n",
    "        if c in seen_chars:\n",
    "            duplicates.add(c)\n",
    "        else:\n",
    "            seen_chars.add(c)\n",
    "\n",
    "    return duplicates\n",
    "s = \"hello world\"\n",
    "duplicate_chars = find_duplicate_chars(s)\n",
    "print(duplicate_chars)"
   ]
  },
  {
   "cell_type": "code",
   "execution_count": 12,
   "id": "5864608e-6844-452b-b3d9-44eee2b65882",
   "metadata": {},
   "outputs": [
    {
     "name": "stdout",
     "output_type": "stream",
     "text": [
      "{'o', 't', 'e', ' '}\n"
     ]
    }
   ],
   "source": [
    "def find_duplicate_chars(s):\n",
    "    duplicates = set()\n",
    "    seen_chars = set()\n",
    "    for c in s:\n",
    "        if c in seen_chars:\n",
    "            duplicates.add(c)\n",
    "        else:\n",
    "            seen_chars.add(c)\n",
    "\n",
    "    return duplicates\n",
    "s = \"Welcome to Python\"\n",
    "duplicate_chars = find_duplicate_chars(s)\n",
    "print(duplicate_chars)"
   ]
  },
  {
   "cell_type": "markdown",
   "id": "a8da6480-6274-483c-93a5-96dc39e25824",
   "metadata": {},
   "source": [
    "# 7. Write a Python Program to check if a string contains any special character?"
   ]
  },
  {
   "cell_type": "code",
   "execution_count": 13,
   "id": "99b1bd1e-f8f2-4407-b89b-b82b971e0fd2",
   "metadata": {},
   "outputs": [
    {
     "name": "stdout",
     "output_type": "stream",
     "text": [
      "True\n"
     ]
    }
   ],
   "source": [
    "import re\n",
    "def special_chars(s):\n",
    "    pattern = r'[^a-zA-Z0-9\\s]'\n",
    "    match = re.search(pattern, s)\n",
    "    if match:\n",
    "        return True\n",
    "    else:\n",
    "        return False\n",
    "s = \"hello world!\"\n",
    "special = special_chars(s)\n",
    "print(special)"
   ]
  },
  {
   "cell_type": "code",
   "execution_count": 14,
   "id": "02c9d353-95b0-4e94-bb48-8aa7f0a115b1",
   "metadata": {},
   "outputs": [
    {
     "name": "stdout",
     "output_type": "stream",
     "text": [
      "True\n"
     ]
    }
   ],
   "source": [
    "import re\n",
    "def special_chars(s):\n",
    "    pattern = r'[^a-zA-Z0-9\\s]'\n",
    "    match = re.search(pattern, s)\n",
    "    if match:\n",
    "        return True\n",
    "    else:\n",
    "        return False\n",
    "s = \"India@2023\"\n",
    "special = special_chars(s)\n",
    "print(special)"
   ]
  },
  {
   "cell_type": "code",
   "execution_count": 15,
   "id": "e07eb9ce-9540-4ab0-bcb1-4b2b487400f5",
   "metadata": {},
   "outputs": [
    {
     "name": "stdout",
     "output_type": "stream",
     "text": [
      "False\n"
     ]
    }
   ],
   "source": [
    "import re\n",
    "def special_chars(s):\n",
    "    pattern = r'[^a-zA-Z0-9\\s]'\n",
    "    match = re.search(pattern, s)\n",
    "    if match:\n",
    "        return True\n",
    "    else:\n",
    "        return False\n",
    "s = \"This is a python class\"\n",
    "special = special_chars(s)\n",
    "print(special)"
   ]
  },
  {
   "cell_type": "code",
   "execution_count": null,
   "id": "d0e625a7-0783-4726-866e-2bf09ed754ce",
   "metadata": {},
   "outputs": [],
   "source": []
  }
 ],
 "metadata": {
  "kernelspec": {
   "display_name": "Python 3 (ipykernel)",
   "language": "python",
   "name": "python3"
  },
  "language_info": {
   "codemirror_mode": {
    "name": "ipython",
    "version": 3
   },
   "file_extension": ".py",
   "mimetype": "text/x-python",
   "name": "python",
   "nbconvert_exporter": "python",
   "pygments_lexer": "ipython3",
   "version": "3.10.6"
  }
 },
 "nbformat": 4,
 "nbformat_minor": 5
}
