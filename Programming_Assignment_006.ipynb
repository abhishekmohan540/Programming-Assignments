{
 "cells": [
  {
   "cell_type": "markdown",
   "id": "b0b33731-bff2-4db8-83dd-04e67728c790",
   "metadata": {},
   "source": [
    "    1. Write a Python Program to Display Fibonacci Sequence Using Recursion?\n",
    "    2. Write a Python Program to Find Factorial of Number Using Recursion?\n",
    "    3. Write a Python Program to calculate your Body Mass Index?\n",
    "    4. Write a Python Program to calculate the natural logarithm of any number?\n",
    "    5. Write a Python Program for cube sum of first n natural numbers?"
   ]
  },
  {
   "cell_type": "markdown",
   "id": "52e0487a-55c4-41c2-9d72-19b75522cacf",
   "metadata": {},
   "source": [
    "## Solution-01"
   ]
  },
  {
   "cell_type": "code",
   "execution_count": 1,
   "id": "214dc458-58e5-4e5f-977d-1083af8d8056",
   "metadata": {},
   "outputs": [
    {
     "name": "stdin",
     "output_type": "stream",
     "text": [
      "Enter no of terms: 10\n"
     ]
    },
    {
     "name": "stdout",
     "output_type": "stream",
     "text": [
      "Fibonacci series:\n",
      "0\n",
      "1\n",
      "1\n",
      "2\n",
      "3\n",
      "5\n",
      "8\n",
      "13\n",
      "21\n",
      "34\n"
     ]
    }
   ],
   "source": [
    "def fibonacci(n):\n",
    "    if n <= 1:\n",
    "        return n\n",
    "    else:\n",
    "        return(fibonacci(n-1) + fibonacci(n-2))\n",
    "\n",
    "terms = int(input(\"Enter no of terms:\"))\n",
    "\n",
    "if terms <= 0:\n",
    "    print(\"Invalid input ! Please input a positive value\")\n",
    "else:\n",
    "    print(\"Fibonacci series:\")\n",
    "for i in range(terms):\n",
    "    print(fibonacci(i))\n"
   ]
  },
  {
   "cell_type": "code",
   "execution_count": 2,
   "id": "46278234-6c53-4abf-b9f4-a269d47903b0",
   "metadata": {},
   "outputs": [
    {
     "name": "stdin",
     "output_type": "stream",
     "text": [
      "Enter no of terms: 15\n"
     ]
    },
    {
     "name": "stdout",
     "output_type": "stream",
     "text": [
      "Fibonacci series:\n",
      "0\n",
      "1\n",
      "1\n",
      "2\n",
      "3\n",
      "5\n",
      "8\n",
      "13\n",
      "21\n",
      "34\n",
      "55\n",
      "89\n",
      "144\n",
      "233\n",
      "377\n"
     ]
    }
   ],
   "source": [
    "def fibonacci(n):\n",
    "    if n <= 1:\n",
    "        return n\n",
    "    else:\n",
    "        return(fibonacci(n-1) + fibonacci(n-2))\n",
    "\n",
    "terms = int(input(\"Enter no of terms:\"))\n",
    "\n",
    "if terms <= 0:\n",
    "    print(\"Invalid input ! Please input a positive value\")\n",
    "else:\n",
    "    print(\"Fibonacci series:\")\n",
    "for i in range(terms):\n",
    "    print(fibonacci(i))\n"
   ]
  },
  {
   "cell_type": "markdown",
   "id": "515d25c9-880e-498e-92cd-66739bd5526d",
   "metadata": {},
   "source": [
    "## Solution-02"
   ]
  },
  {
   "cell_type": "code",
   "execution_count": 5,
   "id": "cf77aeba-2d9b-48f8-bebc-5e1909733298",
   "metadata": {},
   "outputs": [
    {
     "name": "stdin",
     "output_type": "stream",
     "text": [
      "Enter no : 5\n"
     ]
    },
    {
     "name": "stdout",
     "output_type": "stream",
     "text": [
      "Factorial of number 5 = 120\n"
     ]
    }
   ],
   "source": [
    "def factorial(n):\n",
    "    if n == 1:\n",
    "        return n\n",
    "    else:\n",
    "        return n * factorial(n-1)\n",
    "\n",
    "num = int(input(\"Enter no :\"))\n",
    "\n",
    "if num < 0:\n",
    "    print(\"Invalid input ! Please enter a positive number.\")\n",
    "elif num == 0:\n",
    "    print(\"Factorial of number 0 is 1\")\n",
    "else:\n",
    "    print(\"Factorial of number\", num, \"=\", factorial(num))\n"
   ]
  },
  {
   "cell_type": "code",
   "execution_count": 6,
   "id": "329a2956-419e-44e7-bdd6-60ad62bf0540",
   "metadata": {},
   "outputs": [
    {
     "name": "stdin",
     "output_type": "stream",
     "text": [
      "Enter no : 10\n"
     ]
    },
    {
     "name": "stdout",
     "output_type": "stream",
     "text": [
      "Factorial of number 10 = 3628800\n"
     ]
    }
   ],
   "source": [
    "def factorial(n):\n",
    "    if n == 1:\n",
    "        return n\n",
    "    else:\n",
    "        return n * factorial(n-1)\n",
    "\n",
    "num = int(input(\"Enter no :\"))\n",
    "\n",
    "if num < 0:\n",
    "    print(\"Invalid input ! Please enter a positive number.\")\n",
    "elif num == 0:\n",
    "    print(\"Factorial of number 0 is 1\")\n",
    "else:\n",
    "    print(\"Factorial of number\", num, \"=\", factorial(num))\n"
   ]
  },
  {
   "cell_type": "markdown",
   "id": "285b7a1d-f41d-4ea5-a7a7-bb052319b0d7",
   "metadata": {},
   "source": [
    "## Solution-03"
   ]
  },
  {
   "cell_type": "code",
   "execution_count": 9,
   "id": "760a7702-75ad-4cfb-b0c7-9f9b395be80e",
   "metadata": {},
   "outputs": [
    {
     "name": "stdin",
     "output_type": "stream",
     "text": [
      "Enter your weight in kg:  90\n",
      "Enter your height in cm:  175\n"
     ]
    },
    {
     "name": "stdout",
     "output_type": "stream",
     "text": [
      "Your BMI is : 29.387755102040817\n",
      "You are overweight\n"
     ]
    }
   ],
   "source": [
    "wt = int(input(\"Enter your weight in kg: \"))\n",
    "ht = int(input(\"Enter your height in cm: \"))\n",
    "\n",
    "bmi = wt/(ht/100)**2\n",
    "\n",
    "print(\"Your BMI is :\", bmi)\n",
    "\n",
    "if bmi <18.5:\n",
    "    print(\"You are underweight\")\n",
    "elif 18.5<= bmi <=24.5:\n",
    "        print(\"you are under normal category\")\n",
    "elif 24.5< bmi< 30:\n",
    "    print(\"You are overweight\")\n",
    "else:\n",
    "    print(\"You are obese\")\n",
    "    "
   ]
  },
  {
   "cell_type": "code",
   "execution_count": 10,
   "id": "95990e57-7363-4b66-adbb-65f66223d0a1",
   "metadata": {},
   "outputs": [
    {
     "name": "stdin",
     "output_type": "stream",
     "text": [
      "Enter your weight in kg:  75\n",
      "Enter your height in cm:  180\n"
     ]
    },
    {
     "name": "stdout",
     "output_type": "stream",
     "text": [
      "Your BMI is : 23.148148148148145\n",
      "you are under normal category\n"
     ]
    }
   ],
   "source": [
    "wt = int(input(\"Enter your weight in kg: \"))\n",
    "ht = int(input(\"Enter your height in cm: \"))\n",
    "\n",
    "bmi = wt/(ht/100)**2\n",
    "\n",
    "print(\"Your BMI is :\", bmi)\n",
    "\n",
    "if bmi <18.5:\n",
    "    print(\"You are underweight\")\n",
    "elif 18.5<= bmi <=24.5:\n",
    "        print(\"you are under normal category\")\n",
    "elif 24.5< bmi< 30:\n",
    "    print(\"You are overweight\")\n",
    "else:\n",
    "    print(\"You are obese\")\n",
    "    "
   ]
  },
  {
   "cell_type": "markdown",
   "id": "0a0708e0-9f3c-4152-abc3-5278153e2d8a",
   "metadata": {},
   "source": [
    "## Solution-04"
   ]
  },
  {
   "cell_type": "code",
   "execution_count": 12,
   "id": "e3be62ec-7253-43ea-bc03-2fca577d8fc1",
   "metadata": {},
   "outputs": [
    {
     "name": "stdin",
     "output_type": "stream",
     "text": [
      "Enter number:  2\n"
     ]
    },
    {
     "name": "stdout",
     "output_type": "stream",
     "text": [
      "The value of natural log of 2 is : 0.6931471805599453\n"
     ]
    }
   ],
   "source": [
    "import math\n",
    "\n",
    "n= int(input(\"Enter number: \"))\n",
    "\n",
    "print(f\"The value of natural log of {n} is :\", math.log(n))"
   ]
  },
  {
   "cell_type": "code",
   "execution_count": 13,
   "id": "ab28de56-bc99-4d0e-a16a-c4f104c4f49c",
   "metadata": {},
   "outputs": [
    {
     "name": "stdin",
     "output_type": "stream",
     "text": [
      "Enter number:  3\n"
     ]
    },
    {
     "name": "stdout",
     "output_type": "stream",
     "text": [
      "The value of natural log of 3 is : 1.0986122886681098\n"
     ]
    }
   ],
   "source": [
    "import math\n",
    "\n",
    "n= int(input(\"Enter number: \"))\n",
    "\n",
    "print(f\"The value of natural log of {n} is :\", math.log(n))"
   ]
  },
  {
   "cell_type": "code",
   "execution_count": 14,
   "id": "87702e6e-1797-40ef-bfd3-42050490f716",
   "metadata": {},
   "outputs": [
    {
     "name": "stdin",
     "output_type": "stream",
     "text": [
      "Enter number:  10\n"
     ]
    },
    {
     "name": "stdout",
     "output_type": "stream",
     "text": [
      "The value of natural log of 10 is : 2.302585092994046\n"
     ]
    }
   ],
   "source": [
    "import math\n",
    "\n",
    "n= int(input(\"Enter number: \"))\n",
    "\n",
    "print(f\"The value of natural log of {n} is :\", math.log(n))"
   ]
  },
  {
   "cell_type": "markdown",
   "id": "6cf336b9-da51-4cb0-8838-3c67f2a9d1d8",
   "metadata": {},
   "source": [
    "## Solution-05"
   ]
  },
  {
   "cell_type": "code",
   "execution_count": 15,
   "id": "d6e64b97-951a-4fcd-9aae-50d576c1035f",
   "metadata": {},
   "outputs": [
    {
     "name": "stdin",
     "output_type": "stream",
     "text": [
      "Enter no of terms : 3\n"
     ]
    },
    {
     "name": "stdout",
     "output_type": "stream",
     "text": [
      "The sum of cube of numbers upto 3 terms is : 36.0\n"
     ]
    }
   ],
   "source": [
    "def cube(n):\n",
    "    cube =  ((n*(n+1))/2)**2\n",
    "    return cube\n",
    "\n",
    "num = int(input(\"Enter no of terms :\"))\n",
    "\n",
    "print(f\"The sum of cube of numbers upto {num} terms is :\", cube(num))"
   ]
  },
  {
   "cell_type": "code",
   "execution_count": 16,
   "id": "d5479a30-6aab-4fe8-a311-0aed0189b166",
   "metadata": {},
   "outputs": [
    {
     "name": "stdin",
     "output_type": "stream",
     "text": [
      "Enter no of terms : 10\n"
     ]
    },
    {
     "name": "stdout",
     "output_type": "stream",
     "text": [
      "The sum of cube of numbers upto 10 terms is : 3025.0\n"
     ]
    }
   ],
   "source": [
    "def cube(n):\n",
    "    cube =  ((n*(n+1))/2)**2\n",
    "    return cube\n",
    "\n",
    "num = int(input(\"Enter no of terms :\"))\n",
    "\n",
    "print(f\"The sum of cube of numbers upto {num} terms is :\", cube(num))"
   ]
  },
  {
   "cell_type": "code",
   "execution_count": 17,
   "id": "15e1dc08-7306-4968-a0fb-cd6813fd12b8",
   "metadata": {},
   "outputs": [
    {
     "name": "stdin",
     "output_type": "stream",
     "text": [
      "Enter no of terms : 5\n"
     ]
    },
    {
     "name": "stdout",
     "output_type": "stream",
     "text": [
      "The sum of cube of numbers upto 5 terms is : 225.0\n"
     ]
    }
   ],
   "source": [
    "def cube(n):\n",
    "    cube =  ((n*(n+1))/2)**2\n",
    "    return cube\n",
    "\n",
    "num = int(input(\"Enter no of terms :\"))\n",
    "\n",
    "print(f\"The sum of cube of numbers upto {num} terms is :\", cube(num))"
   ]
  },
  {
   "cell_type": "code",
   "execution_count": 18,
   "id": "3340f94a-17cc-4319-b2d4-96fd151c7ad5",
   "metadata": {},
   "outputs": [
    {
     "name": "stdin",
     "output_type": "stream",
     "text": [
      "Enter no of terms : 20\n"
     ]
    },
    {
     "name": "stdout",
     "output_type": "stream",
     "text": [
      "The sum of cube of numbers upto 20 terms is : 44100.0\n"
     ]
    }
   ],
   "source": [
    "def cube(n):\n",
    "    cube =  ((n*(n+1))/2)**2\n",
    "    return cube\n",
    "\n",
    "num = int(input(\"Enter no of terms :\"))\n",
    "\n",
    "print(f\"The sum of cube of numbers upto {num} terms is :\", cube(num))"
   ]
  },
  {
   "cell_type": "markdown",
   "id": "d27f321d-2b69-45ed-8f41-e1e51f6a27c3",
   "metadata": {},
   "source": [
    "## End of Assignment"
   ]
  }
 ],
 "metadata": {
  "kernelspec": {
   "display_name": "Python 3 (ipykernel)",
   "language": "python",
   "name": "python3"
  },
  "language_info": {
   "codemirror_mode": {
    "name": "ipython",
    "version": 3
   },
   "file_extension": ".py",
   "mimetype": "text/x-python",
   "name": "python",
   "nbconvert_exporter": "python",
   "pygments_lexer": "ipython3",
   "version": "3.10.6"
  }
 },
 "nbformat": 4,
 "nbformat_minor": 5
}
