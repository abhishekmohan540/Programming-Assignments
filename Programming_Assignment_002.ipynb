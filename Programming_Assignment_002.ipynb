{
 "cells": [
  {
   "cell_type": "markdown",
   "id": "8055af8c-a008-4de3-ab26-b6ab538b987c",
   "metadata": {},
   "source": [
    "# 1. Write a Python program to convert kilometers to miles?"
   ]
  },
  {
   "cell_type": "code",
   "execution_count": 1,
   "id": "260f4d29-a27c-4eef-aac9-105cfa321a09",
   "metadata": {},
   "outputs": [
    {
     "name": "stdin",
     "output_type": "stream",
     "text": [
      "Enter value in kilometers:  10\n"
     ]
    },
    {
     "name": "stdout",
     "output_type": "stream",
     "text": [
      " 10 kilometers is equal to: 6.213699999999999 miles\n"
     ]
    }
   ],
   "source": [
    "km= int(input(\"Enter value in kilometers: \"))\n",
    "miles = km*(0.62137)\n",
    "print(f\" {km} kilometers is equal to: {miles} miles\")"
   ]
  },
  {
   "cell_type": "markdown",
   "id": "215a4f95-e426-4a2f-a167-756aa4da4682",
   "metadata": {},
   "source": [
    "# 2. Write a Python program to convert Celsius to Fahrenheit?"
   ]
  },
  {
   "cell_type": "code",
   "execution_count": 5,
   "id": "9396df39-a088-49f4-9bad-36d5bbaf3e26",
   "metadata": {},
   "outputs": [
    {
     "name": "stdin",
     "output_type": "stream",
     "text": [
      "Enter data in celcius:  0\n"
     ]
    },
    {
     "name": "stdout",
     "output_type": "stream",
     "text": [
      " The temperature in celcius is: 0\n",
      " The temperature in fareheit is: 32.0\n"
     ]
    }
   ],
   "source": [
    "cel = int(input(\"Enter data in celcius: \"))\n",
    "faren =((9/5)*cel)+ 32\n",
    "print(f\" The temperature in celcius is: {cel}\")\n",
    "print(f\" The temperature in fareheit is: {faren}\")"
   ]
  },
  {
   "cell_type": "code",
   "execution_count": 4,
   "id": "fde09222-d17a-4e61-ba8e-7c86bc98115f",
   "metadata": {},
   "outputs": [
    {
     "name": "stdin",
     "output_type": "stream",
     "text": [
      "Enter data in celcius:  42\n"
     ]
    },
    {
     "name": "stdout",
     "output_type": "stream",
     "text": [
      " The temperature in celcius is: 42\n",
      " The temperature in fareheit is: 107.60000000000001\n"
     ]
    }
   ],
   "source": [
    "cel = int(input(\"Enter data in celcius: \"))\n",
    "faren =((9/5)*cel)+ 32\n",
    "print(f\" The temperature in celcius is: {cel}\")\n",
    "print(f\" The temperature in fareheit is: {faren}\")"
   ]
  },
  {
   "cell_type": "markdown",
   "id": "da797688-a94d-4476-a9ee-2cda88bdb56a",
   "metadata": {},
   "source": [
    "# 3. Write a Python program to display calendar?"
   ]
  },
  {
   "cell_type": "code",
   "execution_count": 7,
   "id": "299b1430-3553-45d4-97bf-3905f0ba973c",
   "metadata": {},
   "outputs": [],
   "source": [
    "import calendar"
   ]
  },
  {
   "cell_type": "code",
   "execution_count": 9,
   "id": "da9d211e-29d8-4a67-a918-c1872c09300b",
   "metadata": {},
   "outputs": [
    {
     "name": "stdout",
     "output_type": "stream",
     "text": [
      "   November 2022\n",
      "Mo Tu We Th Fr Sa Su\n",
      "    1  2  3  4  5  6\n",
      " 7  8  9 10 11 12 13\n",
      "14 15 16 17 18 19 20\n",
      "21 22 23 24 25 26 27\n",
      "28 29 30\n",
      "\n"
     ]
    }
   ],
   "source": [
    "year = 2022\n",
    "month = 11\n",
    "print(calendar.month(year,month))"
   ]
  },
  {
   "cell_type": "code",
   "execution_count": 10,
   "id": "0d6bd442-db42-4734-838b-a0dfd8bd5c0e",
   "metadata": {},
   "outputs": [
    {
     "name": "stdout",
     "output_type": "stream",
     "text": [
      "                                  2022\n",
      "\n",
      "      January                   February                   March\n",
      "Mo Tu We Th Fr Sa Su      Mo Tu We Th Fr Sa Su      Mo Tu We Th Fr Sa Su\n",
      "                1  2          1  2  3  4  5  6          1  2  3  4  5  6\n",
      " 3  4  5  6  7  8  9       7  8  9 10 11 12 13       7  8  9 10 11 12 13\n",
      "10 11 12 13 14 15 16      14 15 16 17 18 19 20      14 15 16 17 18 19 20\n",
      "17 18 19 20 21 22 23      21 22 23 24 25 26 27      21 22 23 24 25 26 27\n",
      "24 25 26 27 28 29 30      28                        28 29 30 31\n",
      "31\n",
      "\n",
      "       April                      May                       June\n",
      "Mo Tu We Th Fr Sa Su      Mo Tu We Th Fr Sa Su      Mo Tu We Th Fr Sa Su\n",
      "             1  2  3                         1             1  2  3  4  5\n",
      " 4  5  6  7  8  9 10       2  3  4  5  6  7  8       6  7  8  9 10 11 12\n",
      "11 12 13 14 15 16 17       9 10 11 12 13 14 15      13 14 15 16 17 18 19\n",
      "18 19 20 21 22 23 24      16 17 18 19 20 21 22      20 21 22 23 24 25 26\n",
      "25 26 27 28 29 30         23 24 25 26 27 28 29      27 28 29 30\n",
      "                          30 31\n",
      "\n",
      "        July                     August                  September\n",
      "Mo Tu We Th Fr Sa Su      Mo Tu We Th Fr Sa Su      Mo Tu We Th Fr Sa Su\n",
      "             1  2  3       1  2  3  4  5  6  7                1  2  3  4\n",
      " 4  5  6  7  8  9 10       8  9 10 11 12 13 14       5  6  7  8  9 10 11\n",
      "11 12 13 14 15 16 17      15 16 17 18 19 20 21      12 13 14 15 16 17 18\n",
      "18 19 20 21 22 23 24      22 23 24 25 26 27 28      19 20 21 22 23 24 25\n",
      "25 26 27 28 29 30 31      29 30 31                  26 27 28 29 30\n",
      "\n",
      "      October                   November                  December\n",
      "Mo Tu We Th Fr Sa Su      Mo Tu We Th Fr Sa Su      Mo Tu We Th Fr Sa Su\n",
      "                1  2          1  2  3  4  5  6                1  2  3  4\n",
      " 3  4  5  6  7  8  9       7  8  9 10 11 12 13       5  6  7  8  9 10 11\n",
      "10 11 12 13 14 15 16      14 15 16 17 18 19 20      12 13 14 15 16 17 18\n",
      "17 18 19 20 21 22 23      21 22 23 24 25 26 27      19 20 21 22 23 24 25\n",
      "24 25 26 27 28 29 30      28 29 30                  26 27 28 29 30 31\n",
      "31\n",
      "\n"
     ]
    }
   ],
   "source": [
    "year = 2022\n",
    "print(calendar.calendar(year))"
   ]
  },
  {
   "cell_type": "markdown",
   "id": "5e26660f-f878-4063-90a5-7556970b6800",
   "metadata": {},
   "source": [
    "# 4. Write a Python program to solve quadratic equation?"
   ]
  },
  {
   "cell_type": "code",
   "execution_count": 14,
   "id": "00c19b56-8849-40fc-9125-cd1159cb0748",
   "metadata": {},
   "outputs": [
    {
     "name": "stdout",
     "output_type": "stream",
     "text": [
      "The given quadratic equation is 2*(x**2) + (-11*x) + 5\n",
      "The roots of the quadratic equation are: 5.0, 0.5\n"
     ]
    }
   ],
   "source": [
    "a = 2\n",
    "b = -11\n",
    "c = 5 \n",
    "print(f\"The given quadratic equation is {a}*(x**2) + ({b}*x) + {c}\")\n",
    "\n",
    "D = (b**2) - 4*a*c\n",
    "if D > 0 or D==0:\n",
    "    root1 = (-b + (D**(1/2)))/(2*a)\n",
    "    root2 = (-b - (D**(1/2)))/(2*a)\n",
    "    print(f\"The roots of the quadratic equation are: {root1}, {root2}\")\n",
    "else:\n",
    "    print(\"Real roots does not exists\")"
   ]
  },
  {
   "cell_type": "code",
   "execution_count": 15,
   "id": "a67ae880-a933-4b38-9771-2ab8a2bcf954",
   "metadata": {},
   "outputs": [
    {
     "name": "stdout",
     "output_type": "stream",
     "text": [
      "The given quadratic equation is 1*(x**2) + (-4*x) + 4\n",
      "The roots of the quadratic equation are: 2.0, 2.0\n"
     ]
    }
   ],
   "source": [
    "a = 1\n",
    "b = -4\n",
    "c = 4\n",
    "print(f\"The given quadratic equation is {a}*(x**2) + ({b}*x) + {c}\")\n",
    "\n",
    "D = (b**2) - 4*a*c\n",
    "if D > 0 or D==0:\n",
    "    root1 = (-b + (D**(1/2)))/(2*a)\n",
    "    root2 = (-b - (D**(1/2)))/(2*a)\n",
    "    print(f\"The roots of the quadratic equation are: {root1}, {root2}\")\n",
    "else:\n",
    "    print(\"Real roots does not exists\")"
   ]
  },
  {
   "cell_type": "markdown",
   "id": "0edf6fe7-b85a-4da1-b0ed-0dc00a1b703d",
   "metadata": {},
   "source": [
    "# 5. Write a Python program to swap two variables without third variable?        "
   ]
  },
  {
   "cell_type": "code",
   "execution_count": 12,
   "id": "7c887f8c-0f3e-43ee-baeb-6a3e8e38adaf",
   "metadata": {},
   "outputs": [
    {
     "name": "stdout",
     "output_type": "stream",
     "text": [
      "Before swapping, value of x: 100 and y: 200\n",
      "After swapping, value of x: 200 and y: 100\n"
     ]
    }
   ],
   "source": [
    "x= 100\n",
    "y= 200\n",
    "print(f\"Before swapping, value of x: {x} and y: {y}\")\n",
    "x,y = y,x\n",
    "\n",
    "print(f\"After swapping, value of x: {x} and y: {y}\")"
   ]
  },
  {
   "cell_type": "markdown",
   "id": "95b7571a-b1b1-4b36-83fc-adf6571adc9a",
   "metadata": {},
   "source": [
    "### End of Assignment"
   ]
  },
  {
   "cell_type": "markdown",
   "id": "5b687c4a-3235-45fa-8e69-becd37315fa8",
   "metadata": {},
   "source": [
    "### Abhishek Mohan"
   ]
  }
 ],
 "metadata": {
  "kernelspec": {
   "display_name": "Python 3 (ipykernel)",
   "language": "python",
   "name": "python3"
  },
  "language_info": {
   "codemirror_mode": {
    "name": "ipython",
    "version": 3
   },
   "file_extension": ".py",
   "mimetype": "text/x-python",
   "name": "python",
   "nbconvert_exporter": "python",
   "pygments_lexer": "ipython3",
   "version": "3.10.6"
  }
 },
 "nbformat": 4,
 "nbformat_minor": 5
}
