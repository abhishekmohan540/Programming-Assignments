{
 "cells": [
  {
   "cell_type": "markdown",
   "id": "c60109a7-8f41-4d7e-9381-e6a512f9554a",
   "metadata": {},
   "source": [
    "## 1. Write a Python program to Extract Unique values dictionary values?\n"
   ]
  },
  {
   "cell_type": "code",
   "execution_count": 4,
   "id": "6b3dcfb3-9e8f-413f-88e3-acbef0b64017",
   "metadata": {},
   "outputs": [],
   "source": [
    "def unique_values(d):\n",
    "    # create an empty set\n",
    "    values = set()\n",
    "    # iterate over the values of the dictionary\n",
    "    for value in d.values():\n",
    "        # add the value to the set\n",
    "        values.add(value)\n",
    "    \n",
    "    return values\n"
   ]
  },
  {
   "cell_type": "code",
   "execution_count": 5,
   "id": "a7d8919d-e17b-4303-a1f2-e703a6ae7273",
   "metadata": {},
   "outputs": [
    {
     "data": {
      "text/plain": [
       "{123, 250, 569}"
      ]
     },
     "execution_count": 5,
     "metadata": {},
     "output_type": "execute_result"
    }
   ],
   "source": [
    "unique_values({'k1':123,'k2':250,'k':569})"
   ]
  },
  {
   "cell_type": "markdown",
   "id": "ca7c785c-ebf9-4f48-8249-553763803355",
   "metadata": {},
   "source": [
    "## 2. Write a Python program to find the sum of all items in a dictionary?\n"
   ]
  },
  {
   "cell_type": "code",
   "execution_count": 6,
   "id": "7e64d8a4-b3a9-4e58-a4ac-03065a6274cd",
   "metadata": {},
   "outputs": [],
   "source": [
    "def dict_sum(d):\n",
    "    return sum(d.values())\n"
   ]
  },
  {
   "cell_type": "code",
   "execution_count": 7,
   "id": "99466ac8-154b-40f3-938b-e4a21b9209d8",
   "metadata": {},
   "outputs": [
    {
     "data": {
      "text/plain": [
       "942"
      ]
     },
     "execution_count": 7,
     "metadata": {},
     "output_type": "execute_result"
    }
   ],
   "source": [
    "dict_sum({'k1':123,'k2':250,'k':569})"
   ]
  },
  {
   "cell_type": "code",
   "execution_count": null,
   "id": "8ba8ef66-24f0-4ebd-9389-95d828d7ab34",
   "metadata": {},
   "outputs": [],
   "source": [
    "3. Write a Python program to Merging two Dictionaries?\n"
   ]
  },
  {
   "cell_type": "code",
   "execution_count": 8,
   "id": "33867c73-7a12-4d88-b887-a925b0afb365",
   "metadata": {},
   "outputs": [],
   "source": [
    "def merge_dicts(d1, d2):\n",
    "    # use the update method to merge the two dictionaries\n",
    "    d1.update(d2)\n",
    "    # return the merged dictionary\n",
    "    return d1\n"
   ]
  },
  {
   "cell_type": "code",
   "execution_count": 9,
   "id": "a6a2d10c-330d-42b3-a65b-9a08a5b95267",
   "metadata": {},
   "outputs": [
    {
     "data": {
      "text/plain": [
       "{'k1': 12, 'k2': 25, 'k3': 22, 'k4': 27}"
      ]
     },
     "execution_count": 9,
     "metadata": {},
     "output_type": "execute_result"
    }
   ],
   "source": [
    "merge_dicts({\"k1\":12,\"k2\":25}, {\"k3\":22,\"k4\":27})"
   ]
  },
  {
   "cell_type": "markdown",
   "id": "4d98c1f5-9125-420f-8936-4b1f5720b5a7",
   "metadata": {},
   "source": [
    "## 4. Write a Python program to convert key-values list to flat dictionary?\n"
   ]
  },
  {
   "cell_type": "code",
   "execution_count": 10,
   "id": "0c638fbb-3757-4a6e-a125-db1ab3252037",
   "metadata": {},
   "outputs": [],
   "source": [
    "def to_dict(lst):\n",
    "    d = {}\n",
    "    for pair in lst:\n",
    "        d[pair[0]] = pair[1]\n",
    "    \n",
    "    return d\n"
   ]
  },
  {
   "cell_type": "code",
   "execution_count": 16,
   "id": "8a60de43-9ca5-4944-a077-6b2afd9a86aa",
   "metadata": {},
   "outputs": [
    {
     "data": {
      "text/plain": [
       "{'k': '1', 'm': '2'}"
      ]
     },
     "execution_count": 16,
     "metadata": {},
     "output_type": "execute_result"
    }
   ],
   "source": [
    "to_dict([\"k1\",\"m2\"])"
   ]
  },
  {
   "cell_type": "markdown",
   "id": "e1b47448-3862-4705-9141-bcaf17e93848",
   "metadata": {},
   "source": [
    "## 5. Write a Python program to insertion at the beginning in OrderedDict?\n"
   ]
  },
  {
   "cell_type": "code",
   "execution_count": 18,
   "id": "37792251-7258-4c72-9bf6-c1d9f7811a20",
   "metadata": {},
   "outputs": [],
   "source": [
    "from collections import OrderedDict\n",
    "\n",
    "def insert_at_beginning(d, key, value):\n",
    "    new_d = OrderedDict([(key, value)])\n",
    "    new_d.update(d)\n",
    "    return new_d\n"
   ]
  },
  {
   "cell_type": "code",
   "execution_count": 19,
   "id": "05970b8c-16ad-41ec-b0e9-cfd2c5d4929c",
   "metadata": {},
   "outputs": [
    {
     "data": {
      "text/plain": [
       "OrderedDict([('k2', 56), ('k1', 12)])"
      ]
     },
     "execution_count": 19,
     "metadata": {},
     "output_type": "execute_result"
    }
   ],
   "source": [
    "insert_at_beginning({\"k1\":12},\"k2\",56)"
   ]
  },
  {
   "cell_type": "markdown",
   "id": "2e4efe7f-916f-4d3f-af92-71880c543ea4",
   "metadata": {},
   "source": [
    "## 6. Write a Python program to check order of character in string using OrderedDict()?\n"
   ]
  },
  {
   "cell_type": "code",
   "execution_count": 26,
   "id": "d2fd41b0-62f6-4c9f-ac0b-f2aed1b8f81e",
   "metadata": {},
   "outputs": [],
   "source": [
    "from collections import OrderedDict\n",
    "\n",
    "def check_order(s, pattern):\n",
    "    pattern_dict = OrderedDict.fromkeys(pattern)\n",
    "    j = 0\n",
    "    for key in s:\n",
    "        if key == pattern[j]:\n",
    "            j += 1\n",
    "        if j == len(pattern):\n",
    "            return True\n",
    "    return False\n"
   ]
  },
  {
   "cell_type": "code",
   "execution_count": 27,
   "id": "b078395d-3cc1-4eba-b927-1ca756705e0c",
   "metadata": {},
   "outputs": [
    {
     "name": "stdout",
     "output_type": "stream",
     "text": [
      "True\n"
     ]
    }
   ],
   "source": [
    "s = \"hello world\"\n",
    "pattern = \"hlo\"\n",
    "result = check_order(s, pattern)\n",
    "print(result)\n"
   ]
  },
  {
   "cell_type": "markdown",
   "id": "75a86bd1-d29b-40c0-ad9b-63deaee2e69d",
   "metadata": {},
   "source": [
    "## 7. Write a Python program to sort Python Dictionaries by Key or Value?"
   ]
  },
  {
   "cell_type": "code",
   "execution_count": 24,
   "id": "b66ff2d4-171b-454b-95b4-ee34034bf32f",
   "metadata": {},
   "outputs": [
    {
     "name": "stdout",
     "output_type": "stream",
     "text": [
      "{'a': 1, 'b': 2, 'c': 3}\n"
     ]
    }
   ],
   "source": [
    "d = {'c': 3, 'a': 1, 'b': 2}\n",
    "sorted_d = dict(sorted(d.items(), key=lambda x: x[0]))\n",
    "print(sorted_d)\n"
   ]
  },
  {
   "cell_type": "code",
   "execution_count": 25,
   "id": "f5ed7993-e2eb-4691-abb9-e0f4dbfc6a64",
   "metadata": {},
   "outputs": [
    {
     "name": "stdout",
     "output_type": "stream",
     "text": [
      "{'a': 11, 'b': 25, 'c': 32}\n"
     ]
    }
   ],
   "source": [
    "d = {'c': 32, 'a': 11, 'b': 25}\n",
    "sorted_d = dict(sorted(d.items(), key=lambda x: x[0]))\n",
    "print(sorted_d)\n"
   ]
  },
  {
   "cell_type": "markdown",
   "id": "3e3e8199-ae4b-45e9-a9a3-0a910b8ba73a",
   "metadata": {},
   "source": [
    "## End of Assignment"
   ]
  }
 ],
 "metadata": {
  "kernelspec": {
   "display_name": "Python 3 (ipykernel)",
   "language": "python",
   "name": "python3"
  },
  "language_info": {
   "codemirror_mode": {
    "name": "ipython",
    "version": 3
   },
   "file_extension": ".py",
   "mimetype": "text/x-python",
   "name": "python",
   "nbconvert_exporter": "python",
   "pygments_lexer": "ipython3",
   "version": "3.10.6"
  }
 },
 "nbformat": 4,
 "nbformat_minor": 5
}
