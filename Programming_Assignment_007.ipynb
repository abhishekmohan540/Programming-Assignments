{
 "cells": [
  {
   "cell_type": "markdown",
   "id": "4a42eee8-09e7-4951-b675-901967d6e01e",
   "metadata": {},
   "source": [
    "## 1. Write a Python Program to find sum of array?\n"
   ]
  },
  {
   "cell_type": "code",
   "execution_count": 9,
   "id": "796b630d-90bb-484e-a402-5e183e5a7b41",
   "metadata": {},
   "outputs": [],
   "source": [
    "def sum_of_array(arr):\n",
    "    if type(arr) != list:\n",
    "        print(\"Enter list only !\")\n",
    "    else:\n",
    "        try:\n",
    "            sum = 0\n",
    "            for i in arr:\n",
    "                sum = sum + i\n",
    "            print(\"The sum of each element of the array is : \", sum)\n",
    "        except Exception as e:\n",
    "            print(e)\n",
    "          "
   ]
  },
  {
   "cell_type": "code",
   "execution_count": 10,
   "id": "ff1876b2-cdd5-4252-9c77-74e2d99b4430",
   "metadata": {},
   "outputs": [
    {
     "name": "stdout",
     "output_type": "stream",
     "text": [
      "The sum of each element of the array is :  15\n"
     ]
    }
   ],
   "source": [
    "sum_of_array([1,2,3,4,5])"
   ]
  },
  {
   "cell_type": "code",
   "execution_count": 11,
   "id": "eb5f28a9-4632-42e4-814e-a0d29071cc01",
   "metadata": {},
   "outputs": [
    {
     "name": "stdout",
     "output_type": "stream",
     "text": [
      "unsupported operand type(s) for +: 'int' and 'str'\n"
     ]
    }
   ],
   "source": [
    "sum_of_array([\"abhi\",\"mohan\"])"
   ]
  },
  {
   "cell_type": "code",
   "execution_count": 12,
   "id": "332a3038-75c8-4d8f-af31-9152cd3fe295",
   "metadata": {},
   "outputs": [
    {
     "name": "stdout",
     "output_type": "stream",
     "text": [
      "Enter list only !\n"
     ]
    }
   ],
   "source": [
    "sum_of_array(\"abhi\")"
   ]
  },
  {
   "cell_type": "code",
   "execution_count": 14,
   "id": "5b550bf7-0022-4905-ae4d-4b536a61ca33",
   "metadata": {},
   "outputs": [
    {
     "name": "stdout",
     "output_type": "stream",
     "text": [
      "The sum of each element of the array is :  860\n"
     ]
    }
   ],
   "source": [
    "sum_of_array([100,200,120,300,140])"
   ]
  },
  {
   "cell_type": "code",
   "execution_count": 16,
   "id": "e46f547a-af17-45b2-859c-a928256f0b55",
   "metadata": {},
   "outputs": [
    {
     "name": "stdout",
     "output_type": "stream",
     "text": [
      "Enter list only !\n"
     ]
    }
   ],
   "source": [
    "sum_of_array((1,2,3))"
   ]
  },
  {
   "cell_type": "code",
   "execution_count": 17,
   "id": "11ef100c-5b9e-4ac6-aa8d-c459501c54d6",
   "metadata": {},
   "outputs": [
    {
     "name": "stdout",
     "output_type": "stream",
     "text": [
      "unsupported operand type(s) for +: 'int' and 'str'\n"
     ]
    }
   ],
   "source": [
    "sum_of_array([1,2,3,\"fsds\"])"
   ]
  },
  {
   "cell_type": "markdown",
   "id": "34439ff7-9425-4c24-9f2e-b15b3d067153",
   "metadata": {},
   "source": [
    "## 2. Write a Python Program to find largest element in an array?\n"
   ]
  },
  {
   "cell_type": "code",
   "execution_count": 18,
   "id": "60037716-5089-4049-b08f-38a521543090",
   "metadata": {},
   "outputs": [],
   "source": [
    "def largest_in_array(arr):\n",
    "    if type(arr) != list:\n",
    "        print(\"Enter list only !\")\n",
    "    else:\n",
    "        try:\n",
    "            largest = 0\n",
    "            for i in arr:\n",
    "                if i > largest:\n",
    "                    largest = i\n",
    "            print(\"The largest element of the array is : \", largest)\n",
    "            \n",
    "        except Exception as e:\n",
    "            print(e)\n",
    "          "
   ]
  },
  {
   "cell_type": "code",
   "execution_count": 19,
   "id": "69226508-8b7d-43e0-a913-5340633d15a4",
   "metadata": {},
   "outputs": [
    {
     "name": "stdout",
     "output_type": "stream",
     "text": [
      "The largest element of the array is :  20\n"
     ]
    }
   ],
   "source": [
    "largest_in_array([5,10,1,15,20,8])"
   ]
  },
  {
   "cell_type": "code",
   "execution_count": 20,
   "id": "73dccffe-43ba-40a7-88a6-3863914ec692",
   "metadata": {},
   "outputs": [
    {
     "name": "stdout",
     "output_type": "stream",
     "text": [
      "'>' not supported between instances of 'str' and 'int'\n"
     ]
    }
   ],
   "source": [
    "largest_in_array([1,\"abhi\",5])"
   ]
  },
  {
   "cell_type": "code",
   "execution_count": 21,
   "id": "41786ca9-ad23-4b69-b8f2-03e24bc51a94",
   "metadata": {},
   "outputs": [
    {
     "name": "stdout",
     "output_type": "stream",
     "text": [
      "'>' not supported between instances of 'str' and 'int'\n"
     ]
    }
   ],
   "source": [
    "largest_in_array([\"abhi\",\"mohan\"])"
   ]
  },
  {
   "cell_type": "code",
   "execution_count": 23,
   "id": "a7b4a0ec-ca98-4b93-a98b-6286cc4cd947",
   "metadata": {},
   "outputs": [
    {
     "name": "stdout",
     "output_type": "stream",
     "text": [
      "Enter list only !\n"
     ]
    }
   ],
   "source": [
    "largest_in_array((1,2,3,5))"
   ]
  },
  {
   "cell_type": "code",
   "execution_count": 24,
   "id": "a595b5e1-5765-4840-89d2-2bb094415bac",
   "metadata": {},
   "outputs": [
    {
     "name": "stdout",
     "output_type": "stream",
     "text": [
      "The largest element of the array is :  360\n"
     ]
    }
   ],
   "source": [
    "largest_in_array([20,-15,22.5,18,360])"
   ]
  },
  {
   "cell_type": "markdown",
   "id": "ae0f889c-fd8d-4539-94f4-e7f76650cea6",
   "metadata": {},
   "source": [
    "## 3. Write a Python Program for array rotation?\n"
   ]
  },
  {
   "cell_type": "code",
   "execution_count": 1,
   "id": "ec69835f-977f-4057-af50-4b6b38546f61",
   "metadata": {},
   "outputs": [],
   "source": [
    "def arr_rotation(arr: \"list\", index: \"int\"):\n",
    "    if type(arr) == list and type(index) == int:\n",
    "        try:\n",
    "            new_arr = []\n",
    "            new_arr.extend(arr[index:])\n",
    "            new_arr.extend(arr[:index])\n",
    "            arr = new_arr\n",
    "\n",
    "            print(f\"On rotating the array by index {index}, the result array is :\", arr)\n",
    "\n",
    "        except Exception as e:\n",
    "            print(e)\n",
    "            \n",
    "    else:\n",
    "        print(\"Enter list value for array and integer value for index !\")"
   ]
  },
  {
   "cell_type": "code",
   "execution_count": 2,
   "id": "9ea5e7f7-9c40-42ff-bbbb-1298e7681af4",
   "metadata": {},
   "outputs": [
    {
     "name": "stdout",
     "output_type": "stream",
     "text": [
      "On rotating the array by index 2, the result array is : [4, 5, 6, 4, 8, 9, 1, 3]\n"
     ]
    }
   ],
   "source": [
    "arr_rotation([1,3,4,5,6,4,8,9], 2)"
   ]
  },
  {
   "cell_type": "code",
   "execution_count": 41,
   "id": "a4e67b64-234e-4d4b-ac5a-b5096de1561b",
   "metadata": {},
   "outputs": [
    {
     "name": "stdout",
     "output_type": "stream",
     "text": [
      "On rotating the array by index 3, the result array is : [5, 4, 3, 7, 8, 9]\n"
     ]
    }
   ],
   "source": [
    "arr_rotation([7,8,9,5,4,3],3)"
   ]
  },
  {
   "cell_type": "code",
   "execution_count": 42,
   "id": "7fcfd8f5-1e5a-46ed-bbef-69a2c6ddd649",
   "metadata": {},
   "outputs": [
    {
     "name": "stdout",
     "output_type": "stream",
     "text": [
      "Enter list value for array and integer value for index !\n"
     ]
    }
   ],
   "source": [
    "arr_rotation((1,2,3,4,5),2)"
   ]
  },
  {
   "cell_type": "code",
   "execution_count": 45,
   "id": "6fa18674-ae69-4b80-93b9-c9f3d2c520d5",
   "metadata": {},
   "outputs": [
    {
     "name": "stdout",
     "output_type": "stream",
     "text": [
      "On rotating the array by index 2, the result array is : ['fsds', 'ineuron', 'data', 'abhi', 'moahn']\n"
     ]
    }
   ],
   "source": [
    "arr_rotation([\"abhi\",\"moahn\",\"fsds\",\"ineuron\",\"data\"], 2)"
   ]
  },
  {
   "cell_type": "code",
   "execution_count": 46,
   "id": "289621d3-d769-4e37-ad35-9d897737e6ca",
   "metadata": {},
   "outputs": [
    {
     "name": "stdout",
     "output_type": "stream",
     "text": [
      "On rotating the array by index 4, the result array is : [46, 1, 12, 'abhi', 10, 5, 6, 57, 12]\n"
     ]
    }
   ],
   "source": [
    "arr_rotation([5,6,57,12,46,1,12,\"abhi\",10], 4)"
   ]
  },
  {
   "cell_type": "code",
   "execution_count": null,
   "id": "8c6ff645-64dd-4f86-95ac-5b0f7ebd97d9",
   "metadata": {},
   "outputs": [],
   "source": []
  },
  {
   "cell_type": "markdown",
   "id": "bb75769a-c5e4-489f-a8ac-da558ab2c760",
   "metadata": {},
   "source": [
    "## 4. Write a Python Program to Split the array and add the first part to the end?\n"
   ]
  },
  {
   "cell_type": "code",
   "execution_count": 5,
   "id": "e10cc137-ddc1-460f-8870-1f5323135861",
   "metadata": {},
   "outputs": [],
   "source": [
    "def arr_split(arr: \"list\", index: \"int\"):\n",
    "    if type(arr) == list and type(index) == int:\n",
    "        try:\n",
    "            new_arr = []\n",
    "            first_part_array = []\n",
    "            second_part_array = []\n",
    "            first_part_array.extend(arr[index:])\n",
    "            second_part_array.extend(arr[:index])\n",
    "            new_arr.extend(arr[index:])\n",
    "            new_arr.extend(arr[:index])\n",
    "            arr = new_arr\n",
    "            \n",
    "\n",
    "            print(f\"\"\"On spliiting the array by index {index}, \n",
    "                  the first part of the array is: {first_part_array} ,\n",
    "                  the second part of array is: {second_part_array},\n",
    "                  the final result of array is : {arr}\"\"\")\n",
    "\n",
    "        except Exception as e:\n",
    "            print(e)\n",
    "            \n",
    "    else:\n",
    "        print(\"Enter list value for array and integer value for index !\")"
   ]
  },
  {
   "cell_type": "code",
   "execution_count": 6,
   "id": "7c5ff674-f66c-4e05-a2ed-7001db1ad433",
   "metadata": {},
   "outputs": [
    {
     "name": "stdout",
     "output_type": "stream",
     "text": [
      "On spliiting the array by index 4, \n",
      "                  the first part of the array is: [5, 6, 7, 8, 9] ,\n",
      "                  the second part of array is: [2, 3, 1, 4],\n",
      "                  the final result of array is : [5, 6, 7, 8, 9, 2, 3, 1, 4]\n"
     ]
    }
   ],
   "source": [
    "arr_split([2,3,1,4,5,6,7,8,9], 4)"
   ]
  },
  {
   "cell_type": "code",
   "execution_count": 7,
   "id": "1f0ee7fd-94f8-4b50-9030-61a3a4b673ec",
   "metadata": {},
   "outputs": [
    {
     "name": "stdout",
     "output_type": "stream",
     "text": [
      "On spliiting the array by index 2, \n",
      "                  the first part of the array is: ['fsds', 10, 13, 'ineoron', 22.5] ,\n",
      "                  the second part of array is: ['abhi', 123],\n",
      "                  the final result of array is : ['fsds', 10, 13, 'ineoron', 22.5, 'abhi', 123]\n"
     ]
    }
   ],
   "source": [
    "arr_split([\"abhi\",123,\"fsds\",10,13,\"ineoron\",22.5],2)"
   ]
  },
  {
   "cell_type": "code",
   "execution_count": 8,
   "id": "aff40e3a-7e89-4421-a9f0-a9e72ed2046b",
   "metadata": {},
   "outputs": [
    {
     "name": "stdout",
     "output_type": "stream",
     "text": [
      "Enter list value for array and integer value for index !\n"
     ]
    }
   ],
   "source": [
    "arr_split((1,2,3,4),2)"
   ]
  },
  {
   "cell_type": "code",
   "execution_count": null,
   "id": "7ae56fe5-841b-44e8-9f96-aeda153a1671",
   "metadata": {},
   "outputs": [],
   "source": []
  },
  {
   "cell_type": "markdown",
   "id": "fb64faac-c7bd-4862-9016-0206487a8f65",
   "metadata": {},
   "source": [
    "## 5. Write a Python Program to check if given array is Monotonic?"
   ]
  },
  {
   "cell_type": "code",
   "execution_count": 48,
   "id": "e1f34f5a-5b80-4563-81f1-e09e6a7597ca",
   "metadata": {},
   "outputs": [],
   "source": [
    "def monotonic(arr):\n",
    "    flag = \"Not Monotonic\"\n",
    "    try:\n",
    "        for i in range(len(arr)-1):\n",
    "            if arr[i+1] >= arr[i]:\n",
    "                continue\n",
    "            else:\n",
    "                break\n",
    "\n",
    "        else:\n",
    "            flag = \"Monotonic\"\n",
    "            print(flag)\n",
    "            \n",
    "    except Exception as e:\n",
    "        print(e)\n",
    "        \n",
    "    try:\n",
    "        for i in range(len(arr)-1):\n",
    "            if arr[i+1] <= arr[i]:\n",
    "                continue\n",
    "            else:\n",
    "                break\n",
    "        else:\n",
    "            flag = \"Monotonic\"\n",
    "            print(flag)\n",
    "            \n",
    "    except Exception as e:\n",
    "        print(e)\n",
    "        \n",
    "    if flag != \"Monotonic\":\n",
    "        print(\"Not Monotonic\")\n",
    "                       "
   ]
  },
  {
   "cell_type": "code",
   "execution_count": 49,
   "id": "e59b8466-659c-4af3-977a-4410cad8ac83",
   "metadata": {},
   "outputs": [
    {
     "name": "stdout",
     "output_type": "stream",
     "text": [
      "Not Monotonic\n"
     ]
    }
   ],
   "source": [
    "monotonic([1,2,3,1,5])"
   ]
  },
  {
   "cell_type": "code",
   "execution_count": 50,
   "id": "eda20495-b04b-412a-b364-e67f7b34daa9",
   "metadata": {},
   "outputs": [
    {
     "name": "stdout",
     "output_type": "stream",
     "text": [
      "'<=' not supported between instances of 'str' and 'int'\n",
      "Not Monotonic\n"
     ]
    }
   ],
   "source": [
    "monotonic([10,9,8,\"ab\",\"cd\"])"
   ]
  },
  {
   "cell_type": "code",
   "execution_count": 51,
   "id": "c3155ecb-65b9-4067-bcbb-e5bbbfe80233",
   "metadata": {},
   "outputs": [
    {
     "name": "stdout",
     "output_type": "stream",
     "text": [
      "Monotonic\n"
     ]
    }
   ],
   "source": [
    "monotonic([10,12,15,16,18,100])"
   ]
  },
  {
   "cell_type": "code",
   "execution_count": 52,
   "id": "230bef88-ded4-4d6d-85fe-fb33fa8a09d0",
   "metadata": {},
   "outputs": [
    {
     "name": "stdout",
     "output_type": "stream",
     "text": [
      "Monotonic\n"
     ]
    }
   ],
   "source": [
    "monotonic([100,88,75,65,55])"
   ]
  },
  {
   "cell_type": "code",
   "execution_count": 53,
   "id": "9d05cd91-6dfb-45e2-83d4-3a8ef05652a5",
   "metadata": {},
   "outputs": [
    {
     "name": "stdout",
     "output_type": "stream",
     "text": [
      "Not Monotonic\n"
     ]
    }
   ],
   "source": [
    "monotonic([12,15,16,10,90])"
   ]
  },
  {
   "cell_type": "code",
   "execution_count": 54,
   "id": "b6673f66-f047-4953-8286-98a7b7966d51",
   "metadata": {},
   "outputs": [
    {
     "name": "stdout",
     "output_type": "stream",
     "text": [
      "Not Monotonic\n"
     ]
    }
   ],
   "source": [
    "monotonic([40,30,20,50,100])"
   ]
  },
  {
   "cell_type": "code",
   "execution_count": 55,
   "id": "e4809b58-c84b-4eeb-9704-9d56c5f1011e",
   "metadata": {},
   "outputs": [
    {
     "name": "stdout",
     "output_type": "stream",
     "text": [
      "Monotonic\n"
     ]
    }
   ],
   "source": [
    "monotonic([1,2,2,3,3,4,5,6])"
   ]
  },
  {
   "cell_type": "markdown",
   "id": "c2ae5b12-6537-487a-bf68-62da0b8615c8",
   "metadata": {},
   "source": [
    "## End of Assignment"
   ]
  }
 ],
 "metadata": {
  "kernelspec": {
   "display_name": "Python 3 (ipykernel)",
   "language": "python",
   "name": "python3"
  },
  "language_info": {
   "codemirror_mode": {
    "name": "ipython",
    "version": 3
   },
   "file_extension": ".py",
   "mimetype": "text/x-python",
   "name": "python",
   "nbconvert_exporter": "python",
   "pygments_lexer": "ipython3",
   "version": "3.10.6"
  }
 },
 "nbformat": 4,
 "nbformat_minor": 5
}
