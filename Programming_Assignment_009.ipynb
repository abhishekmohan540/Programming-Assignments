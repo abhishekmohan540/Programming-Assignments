{
 "cells": [
  {
   "cell_type": "markdown",
   "id": "3d44969c-b546-43d0-a12b-41e1a8e3ca41",
   "metadata": {},
   "source": [
    "## 1. Write a Python program to check if the given number is a Disarium Number?"
   ]
  },
  {
   "cell_type": "code",
   "execution_count": 3,
   "id": "e69f9506-7307-4859-b59e-bc3d8cd1c4be",
   "metadata": {},
   "outputs": [],
   "source": [
    "def is_disarium(number):\n",
    "    num_str = str(number)\n",
    "    n = len(num_str)\n",
    "    sum = 0\n",
    "    for i in range(n):\n",
    "        sum += int(num_str[i]) ** (i + 1)\n",
    "    if sum == number:\n",
    "        return \"Disarium Number\"\n",
    "    else:\n",
    "        return \"Not a disarium number\""
   ]
  },
  {
   "cell_type": "code",
   "execution_count": 4,
   "id": "18b2b2d8-d3f9-498d-82b8-e34473ce18f4",
   "metadata": {},
   "outputs": [
    {
     "data": {
      "text/plain": [
       "'Disarium Number'"
      ]
     },
     "execution_count": 4,
     "metadata": {},
     "output_type": "execute_result"
    }
   ],
   "source": [
    "is_disarium(135)"
   ]
  },
  {
   "cell_type": "code",
   "execution_count": 5,
   "id": "ae4eb0c2-02b3-4254-aa60-c5704d414625",
   "metadata": {},
   "outputs": [
    {
     "data": {
      "text/plain": [
       "'Not a disarium number'"
      ]
     },
     "execution_count": 5,
     "metadata": {},
     "output_type": "execute_result"
    }
   ],
   "source": [
    "is_disarium(230)"
   ]
  },
  {
   "cell_type": "markdown",
   "id": "c7b3a81a-d79c-4548-bebe-f2687e75cb13",
   "metadata": {},
   "source": [
    "## 2. Write a Python program to print all disarium numbers between 1 to 100?"
   ]
  },
  {
   "cell_type": "code",
   "execution_count": 6,
   "id": "98291f8d-ef3a-4b72-9f27-856d501d88b8",
   "metadata": {},
   "outputs": [],
   "source": [
    "def is_disarium(number):\n",
    "    num_str = str(number)\n",
    "    n = len(num_str)\n",
    "    sum = 0\n",
    "    for i in range(n):\n",
    "        sum += int(num_str[i]) ** (i + 1)\n",
    "    if sum == number:\n",
    "        return True\n",
    "    else:\n",
    "        return False"
   ]
  },
  {
   "cell_type": "code",
   "execution_count": 7,
   "id": "2cb548c3-0162-4fee-a957-1a4bd00d1f9f",
   "metadata": {},
   "outputs": [
    {
     "name": "stdout",
     "output_type": "stream",
     "text": [
      "1\n",
      "2\n",
      "3\n",
      "4\n",
      "5\n",
      "6\n",
      "7\n",
      "8\n",
      "9\n",
      "89\n"
     ]
    }
   ],
   "source": [
    "for i in range(1,101):\n",
    "    if is_disarium(i) == True:\n",
    "        print(i)\n",
    "        \n",
    "    "
   ]
  },
  {
   "cell_type": "code",
   "execution_count": null,
   "id": "a16822db-e54f-48b0-be8e-f120402c7b9e",
   "metadata": {},
   "outputs": [],
   "source": []
  },
  {
   "cell_type": "markdown",
   "id": "6ee840c4-399d-4a50-8afc-ebd16bc4947b",
   "metadata": {},
   "source": [
    "## 3. Write a Python program to check if the given number is Happy Number?\n"
   ]
  },
  {
   "cell_type": "code",
   "execution_count": 6,
   "id": "e2b226af-cd02-4070-baf7-6c3010622228",
   "metadata": {},
   "outputs": [],
   "source": [
    "def is_happy_number(number):\n",
    "    \n",
    "    seen_numbers = set()\n",
    "    \n",
    "    while number != 1 and number not in seen_numbers:\n",
    "        # add the current number to the set\n",
    "        seen_numbers.add(number)\n",
    "        num_str = str(number)\n",
    "        sum = 0\n",
    "        for digit in num_str:\n",
    "            sum += int(digit) ** 2\n",
    "        number = sum\n",
    "    # check if the number is happy or not\n",
    "    if number == 1:\n",
    "        return True\n",
    "    else:\n",
    "        return False\n",
    "\n"
   ]
  },
  {
   "cell_type": "code",
   "execution_count": 7,
   "id": "24b03df9-852c-4946-be99-505021f7ea3d",
   "metadata": {},
   "outputs": [
    {
     "data": {
      "text/plain": [
       "True"
      ]
     },
     "execution_count": 7,
     "metadata": {},
     "output_type": "execute_result"
    }
   ],
   "source": [
    "is_happy_number(1)"
   ]
  },
  {
   "cell_type": "code",
   "execution_count": 8,
   "id": "976f9f64-4098-48a8-80a5-7701fd3140fa",
   "metadata": {},
   "outputs": [
    {
     "data": {
      "text/plain": [
       "True"
      ]
     },
     "execution_count": 8,
     "metadata": {},
     "output_type": "execute_result"
    }
   ],
   "source": [
    "is_happy_number(19)"
   ]
  },
  {
   "cell_type": "code",
   "execution_count": 9,
   "id": "ed7cfc71-c6c3-454a-a075-0ae32dffa8cc",
   "metadata": {},
   "outputs": [
    {
     "data": {
      "text/plain": [
       "False"
      ]
     },
     "execution_count": 9,
     "metadata": {},
     "output_type": "execute_result"
    }
   ],
   "source": [
    "is_happy_number(56)"
   ]
  },
  {
   "cell_type": "markdown",
   "id": "7cce3e5c-e16b-4b15-acfe-de0c8f4ed480",
   "metadata": {},
   "source": [
    "## 4. Write a Python program to print all happy numbers between 1 and 100?\n"
   ]
  },
  {
   "cell_type": "code",
   "execution_count": 10,
   "id": "5f587f5d-2d61-4c08-aed9-fa300fe233b8",
   "metadata": {},
   "outputs": [
    {
     "name": "stdout",
     "output_type": "stream",
     "text": [
      "1\n",
      "7\n",
      "10\n",
      "13\n",
      "19\n",
      "23\n",
      "28\n",
      "31\n",
      "32\n",
      "44\n",
      "49\n",
      "68\n",
      "70\n",
      "79\n",
      "82\n",
      "86\n",
      "91\n",
      "94\n",
      "97\n",
      "100\n"
     ]
    }
   ],
   "source": [
    "for i in range(1,101):\n",
    "    if is_happy_number(i) == True:\n",
    "        print(i)"
   ]
  },
  {
   "cell_type": "code",
   "execution_count": null,
   "id": "27aabe95-5388-4c60-8c17-bbb6a2d1ff1c",
   "metadata": {},
   "outputs": [],
   "source": []
  },
  {
   "cell_type": "markdown",
   "id": "c68df222-9d69-42a9-a4b0-a14c0341561d",
   "metadata": {},
   "source": [
    "## 5. Write a Python program to determine whether the given number is a Harshad Number?\n"
   ]
  },
  {
   "cell_type": "code",
   "execution_count": 11,
   "id": "57de8758-2582-4af3-93e6-23d5251f8437",
   "metadata": {},
   "outputs": [],
   "source": [
    "def is_harshad_number(number):\n",
    "    sum = 0\n",
    "    for digit in str(number):\n",
    "        sum += int(digit)\n",
    "\n",
    "    if number % sum == 0:\n",
    "        return True\n",
    "    else:\n",
    "        return False"
   ]
  },
  {
   "cell_type": "code",
   "execution_count": 12,
   "id": "c600401f-cf03-426d-b471-a87b95d89100",
   "metadata": {},
   "outputs": [
    {
     "data": {
      "text/plain": [
       "True"
      ]
     },
     "execution_count": 12,
     "metadata": {},
     "output_type": "execute_result"
    }
   ],
   "source": [
    "is_harshad_number(18)"
   ]
  },
  {
   "cell_type": "code",
   "execution_count": 13,
   "id": "2fdcf1fe-afc9-49ac-8b60-cb3d5dc28026",
   "metadata": {},
   "outputs": [
    {
     "data": {
      "text/plain": [
       "False"
      ]
     },
     "execution_count": 13,
     "metadata": {},
     "output_type": "execute_result"
    }
   ],
   "source": [
    "is_harshad_number(25)"
   ]
  },
  {
   "cell_type": "markdown",
   "id": "7d2c3883-fdb6-4100-90bd-1f9b62ca40db",
   "metadata": {},
   "source": [
    "## 6. Write a Python program to print all pronic numbers between 1 and 100?"
   ]
  },
  {
   "cell_type": "code",
   "execution_count": 14,
   "id": "60e2a26c-5ce1-4031-919f-08024a75c8ad",
   "metadata": {},
   "outputs": [
    {
     "name": "stdout",
     "output_type": "stream",
     "text": [
      "2\n",
      "6\n",
      "12\n",
      "20\n",
      "30\n",
      "42\n",
      "56\n",
      "72\n",
      "90\n"
     ]
    }
   ],
   "source": [
    "def is_pronic_number(number):\n",
    "    for i in range(1, int(number**0.5)+1):\n",
    "        # check if i*(i+1) is equal to the number\n",
    "        if i*(i+1) == number:\n",
    "            return True\n",
    "   \n",
    "    return False\n",
    "for i in range(1, 101):\n",
    "    if is_pronic_number(i):\n",
    "        print(i)"
   ]
  },
  {
   "cell_type": "markdown",
   "id": "81c3d113-a764-48c7-b471-bd75c01dcb30",
   "metadata": {},
   "source": [
    "## End of Assignment"
   ]
  }
 ],
 "metadata": {
  "kernelspec": {
   "display_name": "Python 3 (ipykernel)",
   "language": "python",
   "name": "python3"
  },
  "language_info": {
   "codemirror_mode": {
    "name": "ipython",
    "version": 3
   },
   "file_extension": ".py",
   "mimetype": "text/x-python",
   "name": "python",
   "nbconvert_exporter": "python",
   "pygments_lexer": "ipython3",
   "version": "3.10.6"
  }
 },
 "nbformat": 4,
 "nbformat_minor": 5
}
