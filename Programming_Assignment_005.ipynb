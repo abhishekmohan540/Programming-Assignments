{
 "cells": [
  {
   "cell_type": "markdown",
   "id": "ac62878c-7eb4-4fe1-a9bf-40b12119ba1f",
   "metadata": {},
   "source": [
    "    1. Write a Python Program to Find LCM?\n",
    "    2. Write a Python Program to Find HCF?\n",
    "    3. Write a Python Program to Convert Decimal to Binary, Octal and Hexadecimal?\n",
    "    4. Write a Python Program To Find ASCII value of a character?\n",
    "    5. Write a Python Program to Make a Simple Calculator with 4 basic mathematical operations?"
   ]
  },
  {
   "cell_type": "markdown",
   "id": "1cd35a87-f1f6-4463-9015-f6d5275905c9",
   "metadata": {},
   "source": [
    "### Solution-01"
   ]
  },
  {
   "cell_type": "code",
   "execution_count": 2,
   "id": "93697a9e-2c25-4291-9564-fdba36856d9e",
   "metadata": {},
   "outputs": [
    {
     "name": "stdin",
     "output_type": "stream",
     "text": [
      " 8\n",
      " 12\n"
     ]
    },
    {
     "name": "stdout",
     "output_type": "stream",
     "text": [
      "LCM = 24\n"
     ]
    }
   ],
   "source": [
    "x = int(input())\n",
    "y = int(input())\n",
    "\n",
    "if x > y:\n",
    "    greater = x\n",
    "else:\n",
    "    greater = y\n",
    "\n",
    "while(True):\n",
    "    if((greater % x == 0) and (greater % y == 0)):\n",
    "        lcm = greater\n",
    "        break\n",
    "    greater += 1\n",
    "print(\"LCM =\", lcm)    \n"
   ]
  },
  {
   "cell_type": "code",
   "execution_count": 3,
   "id": "7359e524-0938-41ff-904a-2390b92f1896",
   "metadata": {},
   "outputs": [
    {
     "name": "stdin",
     "output_type": "stream",
     "text": [
      " 16\n",
      " 7\n"
     ]
    },
    {
     "name": "stdout",
     "output_type": "stream",
     "text": [
      "LCM = 112\n"
     ]
    }
   ],
   "source": [
    "x = int(input())\n",
    "y = int(input())\n",
    "\n",
    "if x > y:\n",
    "    greater = x\n",
    "else:\n",
    "    greater = y\n",
    "\n",
    "while(True):\n",
    "    if((greater % x == 0) and (greater % y == 0)):\n",
    "        lcm = greater\n",
    "        break\n",
    "    greater += 1\n",
    "print(\"LCM =\", lcm)    \n"
   ]
  },
  {
   "cell_type": "markdown",
   "id": "d4356fd1-ea65-4b59-8198-700e061537ba",
   "metadata": {},
   "source": [
    "### Solution-02"
   ]
  },
  {
   "cell_type": "code",
   "execution_count": 8,
   "id": "fd52a4dd-515c-417f-9ae5-86d1d60e7a09",
   "metadata": {},
   "outputs": [
    {
     "name": "stdin",
     "output_type": "stream",
     "text": [
      " 12\n",
      " 8\n"
     ]
    },
    {
     "name": "stdout",
     "output_type": "stream",
     "text": [
      "HCF =  4\n"
     ]
    }
   ],
   "source": [
    "x = int(input())\n",
    "y = int(input())\n",
    "\n",
    "if x > y:\n",
    "    larger = x\n",
    "    smaller = y\n",
    "else:\n",
    "    larger = y\n",
    "    smaller = x\n",
    "abhi = True   \n",
    "while abhi == True:   \n",
    "    rem = larger % smaller\n",
    "    if rem == 0:\n",
    "        HCF = smaller\n",
    "        abhi = False\n",
    "    else:\n",
    "        smaller, larger = rem, smaller\n",
    "\n",
    "print(\"HCF = \", HCF)    \n"
   ]
  },
  {
   "cell_type": "code",
   "execution_count": 10,
   "id": "e6b6e1d5-e9d3-4c0b-8d87-405ec8bbb8eb",
   "metadata": {},
   "outputs": [
    {
     "name": "stdin",
     "output_type": "stream",
     "text": [
      " 17\n",
      " 19\n"
     ]
    },
    {
     "name": "stdout",
     "output_type": "stream",
     "text": [
      "HCF =  1\n"
     ]
    }
   ],
   "source": [
    "x = int(input())\n",
    "y = int(input())\n",
    "\n",
    "if x > y:\n",
    "    larger = x\n",
    "    smaller = y\n",
    "else:\n",
    "    larger = y\n",
    "    smaller = x\n",
    "abhi = True   \n",
    "while abhi == True:   \n",
    "    rem = larger % smaller\n",
    "    if rem == 0:\n",
    "        HCF = smaller\n",
    "        abhi = False\n",
    "    else:\n",
    "        smaller, larger = rem, smaller\n",
    "\n",
    "print(\"HCF = \", HCF)    \n"
   ]
  },
  {
   "cell_type": "markdown",
   "id": "b77a5c51-e3c1-4be7-bcd7-fcee1565efa8",
   "metadata": {},
   "source": [
    "### Solutioon-03"
   ]
  },
  {
   "cell_type": "code",
   "execution_count": 11,
   "id": "f71115f2-06f1-4f12-b25d-b93f02c08b18",
   "metadata": {},
   "outputs": [
    {
     "name": "stdin",
     "output_type": "stream",
     "text": [
      " 344\n"
     ]
    },
    {
     "name": "stdout",
     "output_type": "stream",
     "text": [
      "The decimal value of 344 is:\n",
      "0b101011000 in binary.\n",
      "0o530 in octal.\n",
      "0x158 in hexadecimal.\n"
     ]
    }
   ],
   "source": [
    "dec = int(input())\n",
    "\n",
    "print(\"The decimal value of\", dec, \"is:\")\n",
    "print(bin(dec), \"in binary.\")\n",
    "print(oct(dec), \"in octal.\")\n",
    "print(hex(dec), \"in hexadecimal.\")"
   ]
  },
  {
   "cell_type": "code",
   "execution_count": 12,
   "id": "80c6f96f-aae4-40b2-9e34-e0fbcec5532c",
   "metadata": {},
   "outputs": [
    {
     "name": "stdin",
     "output_type": "stream",
     "text": [
      " 135\n"
     ]
    },
    {
     "name": "stdout",
     "output_type": "stream",
     "text": [
      "The decimal value of 135 is:\n",
      "0b10000111 in binary.\n",
      "0o207 in octal.\n",
      "0x87 in hexadecimal.\n"
     ]
    }
   ],
   "source": [
    "dec = int(input())\n",
    "\n",
    "print(\"The decimal value of\", dec, \"is:\")\n",
    "print(bin(dec), \"in binary.\")\n",
    "print(oct(dec), \"in octal.\")\n",
    "print(hex(dec), \"in hexadecimal.\")"
   ]
  },
  {
   "cell_type": "markdown",
   "id": "bfba2d28-aa21-4ff2-93f1-cee385dd57a7",
   "metadata": {},
   "source": [
    "### Solution-04"
   ]
  },
  {
   "cell_type": "code",
   "execution_count": 15,
   "id": "a01b6c90-e5e3-46dd-a0e8-13a2b98a8043",
   "metadata": {},
   "outputs": [
    {
     "name": "stdin",
     "output_type": "stream",
     "text": [
      "Enter a character:  a\n"
     ]
    },
    {
     "name": "stdout",
     "output_type": "stream",
     "text": [
      "The ASCII value of a is 97\n"
     ]
    }
   ],
   "source": [
    "character  = input(\"Enter a character: \")\n",
    "print(f\"The ASCII value of {character} is\", ord(character))"
   ]
  },
  {
   "cell_type": "code",
   "execution_count": 16,
   "id": "e19116fc-b6db-491f-9ca9-31811a6567e9",
   "metadata": {},
   "outputs": [
    {
     "name": "stdin",
     "output_type": "stream",
     "text": [
      "Enter a character:  A\n"
     ]
    },
    {
     "name": "stdout",
     "output_type": "stream",
     "text": [
      "The ASCII value of A is 65\n"
     ]
    }
   ],
   "source": [
    "character  = input(\"Enter a character: \")\n",
    "print(f\"The ASCII value of {character} is\", ord(character))"
   ]
  },
  {
   "cell_type": "code",
   "execution_count": 17,
   "id": "0756109c-f8ff-40da-bfdb-51a646c154a8",
   "metadata": {},
   "outputs": [
    {
     "name": "stdin",
     "output_type": "stream",
     "text": [
      "Enter a character:  p\n"
     ]
    },
    {
     "name": "stdout",
     "output_type": "stream",
     "text": [
      "The ASCII value of p is 112\n"
     ]
    }
   ],
   "source": [
    "character  = input(\"Enter a character: \")\n",
    "print(f\"The ASCII value of {character} is\", ord(character))"
   ]
  },
  {
   "cell_type": "code",
   "execution_count": 19,
   "id": "a44371ee-eec5-47b8-9af0-7b0d509b25ab",
   "metadata": {},
   "outputs": [
    {
     "name": "stdin",
     "output_type": "stream",
     "text": [
      "Enter a character:  z\n"
     ]
    },
    {
     "name": "stdout",
     "output_type": "stream",
     "text": [
      "The ASCII value of z is 122\n"
     ]
    }
   ],
   "source": [
    "character  = input(\"Enter a character: \")\n",
    "print(f\"The ASCII value of {character} is\", ord(character))"
   ]
  },
  {
   "cell_type": "markdown",
   "id": "b8576a09-7367-417a-88ad-91b18645de9d",
   "metadata": {},
   "source": [
    "### Solution-05"
   ]
  },
  {
   "cell_type": "code",
   "execution_count": 26,
   "id": "24b3200b-25f5-4df9-a98d-e4e63ca07408",
   "metadata": {},
   "outputs": [
    {
     "name": "stdin",
     "output_type": "stream",
     "text": [
      "What operation you want to perform? Press 1 for Add or 2 for Subtract or 3 for Multiply or 4 for Division 2\n",
      "enter first number:  100\n",
      "enter second number:  200\n"
     ]
    },
    {
     "name": "stdout",
     "output_type": "stream",
     "text": [
      "Difference = -100\n"
     ]
    }
   ],
   "source": [
    "op = int(input(\"What operation you want to perform? Press 1 for Add or 2 for Subtract or 3 for Multiply or 4 for Division\"))\n",
    "Sum = 0\n",
    "diff = 0\n",
    "Prod= 0\n",
    "Quo = 0\n",
    "if op ==1:\n",
    "    num1=int(input(\"enter first number: \"))\n",
    "    num2=int(input(\"enter second number: \"))\n",
    "    Sum = num1+num2\n",
    "    print(\"Sum =\", Sum)\n",
    "    \n",
    "elif op ==2:\n",
    "    num1=int(input(\"enter first number: \"))\n",
    "    num2=int(input(\"enter second number: \"))\n",
    "    diff = num1-num2\n",
    "    print(\"Difference =\", diff) \n",
    "    \n",
    "elif op ==3:\n",
    "    num1=int(input(\"enter first number: \"))\n",
    "    num2=int(input(\"enter second number: \"))\n",
    "    Prod = num1*num2\n",
    "    print(\"Product =\", Prod)   \n",
    "    \n",
    "elif op ==4:\n",
    "    num1=int(input(\"enter first number: \"))\n",
    "    num2=int(input(\"enter second number: \"))\n",
    "    Quo = num1/num2\n",
    "    print(\"Quotient =\", Quo)\n",
    "    \n",
    "else:\n",
    "    print(\"Choose correct input !\")\n",
    "    "
   ]
  },
  {
   "cell_type": "code",
   "execution_count": 27,
   "id": "45b59521-bb7e-48d6-aa50-a64e5496a31b",
   "metadata": {},
   "outputs": [
    {
     "name": "stdin",
     "output_type": "stream",
     "text": [
      "What operation you want to perform? Press 1 for Add or 2 for Subtract or 3 for Multiply or 4 for Division 1\n",
      "enter first number:  2354\n",
      "enter second number:  12548\n"
     ]
    },
    {
     "name": "stdout",
     "output_type": "stream",
     "text": [
      "Sum = 14902\n"
     ]
    }
   ],
   "source": [
    "op = int(input(\"What operation you want to perform? Press 1 for Add or 2 for Subtract or 3 for Multiply or 4 for Division\"))\n",
    "Sum = 0\n",
    "diff = 0\n",
    "Prod= 0\n",
    "Quo = 0\n",
    "if op ==1:\n",
    "    num1=int(input(\"enter first number: \"))\n",
    "    num2=int(input(\"enter second number: \"))\n",
    "    Sum = num1+num2\n",
    "    print(\"Sum =\", Sum)\n",
    "    \n",
    "elif op ==2:\n",
    "    num1=int(input(\"enter first number: \"))\n",
    "    num2=int(input(\"enter second number: \"))\n",
    "    diff = num1-num2\n",
    "    print(\"Difference =\", diff) \n",
    "    \n",
    "elif op ==3:\n",
    "    num1=int(input(\"enter first number: \"))\n",
    "    num2=int(input(\"enter second number: \"))\n",
    "    Prod = num1*num2\n",
    "    print(\"Product =\", Prod)   \n",
    "    \n",
    "elif op ==4:\n",
    "    num1=int(input(\"enter first number: \"))\n",
    "    num2=int(input(\"enter second number: \"))\n",
    "    Quo = num1/num2\n",
    "    print(\"Quotient =\", Quo)\n",
    "    \n",
    "else:\n",
    "    print(\"Choose correct input !\")\n",
    "    "
   ]
  },
  {
   "cell_type": "code",
   "execution_count": 28,
   "id": "176430be-d584-4667-9d7d-e4c1805a44e4",
   "metadata": {},
   "outputs": [
    {
     "name": "stdin",
     "output_type": "stream",
     "text": [
      "What operation you want to perform? Press 1 for Add or 2 for Subtract or 3 for Multiply or 4 for Division 4\n",
      "enter first number:  1564895\n",
      "enter second number:  123\n"
     ]
    },
    {
     "name": "stdout",
     "output_type": "stream",
     "text": [
      "Quotient = 12722.723577235773\n"
     ]
    }
   ],
   "source": [
    "op = int(input(\"What operation you want to perform? Press 1 for Add or 2 for Subtract or 3 for Multiply or 4 for Division\"))\n",
    "Sum = 0\n",
    "diff = 0\n",
    "Prod= 0\n",
    "Quo = 0\n",
    "if op ==1:\n",
    "    num1=int(input(\"enter first number: \"))\n",
    "    num2=int(input(\"enter second number: \"))\n",
    "    Sum = num1+num2\n",
    "    print(\"Sum =\", Sum)\n",
    "    \n",
    "elif op ==2:\n",
    "    num1=int(input(\"enter first number: \"))\n",
    "    num2=int(input(\"enter second number: \"))\n",
    "    diff = num1-num2\n",
    "    print(\"Difference =\", diff) \n",
    "    \n",
    "elif op ==3:\n",
    "    num1=int(input(\"enter first number: \"))\n",
    "    num2=int(input(\"enter second number: \"))\n",
    "    Prod = num1*num2\n",
    "    print(\"Product =\", Prod)   \n",
    "    \n",
    "elif op ==4:\n",
    "    num1=int(input(\"enter first number: \"))\n",
    "    num2=int(input(\"enter second number: \"))\n",
    "    Quo = num1/num2\n",
    "    print(\"Quotient =\", Quo)\n",
    "    \n",
    "else:\n",
    "    print(\"Choose correct input !\")\n",
    "    "
   ]
  },
  {
   "cell_type": "code",
   "execution_count": 29,
   "id": "f7f5dd22-c9ef-4137-8b0e-ca5ec0ce316e",
   "metadata": {},
   "outputs": [
    {
     "name": "stdin",
     "output_type": "stream",
     "text": [
      "What operation you want to perform? Press 1 for Add or 2 for Subtract or 3 for Multiply or 4 for Division 10\n"
     ]
    },
    {
     "name": "stdout",
     "output_type": "stream",
     "text": [
      "Choose correct input !\n"
     ]
    }
   ],
   "source": [
    "op = int(input(\"What operation you want to perform? Press 1 for Add or 2 for Subtract or 3 for Multiply or 4 for Division\"))\n",
    "Sum = 0\n",
    "diff = 0\n",
    "Prod= 0\n",
    "Quo = 0\n",
    "if op ==1:\n",
    "    num1=int(input(\"enter first number: \"))\n",
    "    num2=int(input(\"enter second number: \"))\n",
    "    Sum = num1+num2\n",
    "    print(\"Sum =\", Sum)\n",
    "    \n",
    "elif op ==2:\n",
    "    num1=int(input(\"enter first number: \"))\n",
    "    num2=int(input(\"enter second number: \"))\n",
    "    diff = num1-num2\n",
    "    print(\"Difference =\", diff) \n",
    "    \n",
    "elif op ==3:\n",
    "    num1=int(input(\"enter first number: \"))\n",
    "    num2=int(input(\"enter second number: \"))\n",
    "    Prod = num1*num2\n",
    "    print(\"Product =\", Prod)   \n",
    "    \n",
    "elif op ==4:\n",
    "    num1=int(input(\"enter first number: \"))\n",
    "    num2=int(input(\"enter second number: \"))\n",
    "    Quo = num1/num2\n",
    "    print(\"Quotient =\", Quo)\n",
    "    \n",
    "else:\n",
    "    print(\"Choose correct input !\")\n",
    "    "
   ]
  },
  {
   "cell_type": "markdown",
   "id": "209ce557-3fef-4559-ad48-fea02ef335ca",
   "metadata": {},
   "source": [
    "## End of Assigment"
   ]
  }
 ],
 "metadata": {
  "kernelspec": {
   "display_name": "Python 3 (ipykernel)",
   "language": "python",
   "name": "python3"
  },
  "language_info": {
   "codemirror_mode": {
    "name": "ipython",
    "version": 3
   },
   "file_extension": ".py",
   "mimetype": "text/x-python",
   "name": "python",
   "nbconvert_exporter": "python",
   "pygments_lexer": "ipython3",
   "version": "3.10.6"
  }
 },
 "nbformat": 4,
 "nbformat_minor": 5
}
