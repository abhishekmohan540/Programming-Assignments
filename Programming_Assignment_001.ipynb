{
 "cells": [
  {
   "cell_type": "markdown",
   "id": "c96f3cb8-349e-4491-ac56-455a618a6e0e",
   "metadata": {},
   "source": [
    "# 1. Write a Python program to print \"Hello Python\" ?"
   ]
  },
  {
   "cell_type": "code",
   "execution_count": 3,
   "id": "c5b1d290-24c0-43e1-aa2e-eab6d77e4d69",
   "metadata": {},
   "outputs": [
    {
     "name": "stdout",
     "output_type": "stream",
     "text": [
      "Hello Python\n"
     ]
    }
   ],
   "source": [
    "print(\"Hello Python\")"
   ]
  },
  {
   "cell_type": "markdown",
   "id": "8d48c75f-efdd-4b56-ac68-d38d43ef4337",
   "metadata": {},
   "source": [
    "# 2. Write a Python program to do arithmetical operations addition and division.?"
   ]
  },
  {
   "cell_type": "code",
   "execution_count": 4,
   "id": "817be650-5a00-4720-a0c8-4f77bbf007ed",
   "metadata": {},
   "outputs": [
    {
     "name": "stdout",
     "output_type": "stream",
     "text": [
      "Sum of a and b is:  15\n",
      "Division of a by b:  2.0\n"
     ]
    }
   ],
   "source": [
    "a= 10\n",
    "b= 5\n",
    "Sum = a+b\n",
    "Div = a/b\n",
    "\n",
    "print(\"Sum of a and b is: \", Sum)\n",
    "print(\"Division of a by b: \", Div)"
   ]
  },
  {
   "cell_type": "markdown",
   "id": "eaba8eaf-fd64-42f7-9d5b-7da503f22692",
   "metadata": {},
   "source": [
    "# 3. Write a Python program to find the area of a triangle?"
   ]
  },
  {
   "cell_type": "code",
   "execution_count": 19,
   "id": "8aa95e88-43a6-4b65-9ff9-69b86627405c",
   "metadata": {},
   "outputs": [
    {
     "name": "stdin",
     "output_type": "stream",
     "text": [
      "Enter side-1 of triangle:  8\n",
      "Enter side-2 of triangle:  6\n",
      "Enter side-3 of triangle:  10\n"
     ]
    },
    {
     "name": "stdout",
     "output_type": "stream",
     "text": [
      "The sides of the triangle are: 8, 6, and 10\n",
      "The are of the traingle is: 24.0\n"
     ]
    }
   ],
   "source": [
    "a = int(input(\"Enter side-1 of triangle: \"))\n",
    "b = int(input(\"Enter side-2 of triangle: \"))\n",
    "c = int(input(\"Enter side-3 of triangle: \"))\n",
    "\n",
    "if (a+b) > c and (b+c) > a and (c+a) > b:\n",
    "    s = (a+b+c)/2\n",
    "    area= (s*(s-a)*(s-b)*(s-c))**(1/2)\n",
    "    print(f\"The sides of the triangle are: {a}, {b}, and {c}\")\n",
    "    print(f\"The are of the traingle is: {area}\")\n",
    "\n",
    "else:\n",
    "    print(\"Triangle is not possible with entered sides. Enter Correct sides !\") "
   ]
  },
  {
   "cell_type": "code",
   "execution_count": 20,
   "id": "0a1d51bf-5e76-4f15-a2d0-a05f49a11f50",
   "metadata": {},
   "outputs": [
    {
     "name": "stdin",
     "output_type": "stream",
     "text": [
      "Enter side-1 of triangle:  11\n",
      "Enter side-2 of triangle:  10\n",
      "Enter side-3 of triangle:  25\n"
     ]
    },
    {
     "name": "stdout",
     "output_type": "stream",
     "text": [
      "Triangle is not possible with entered sides. Enter Correct sides !\n"
     ]
    }
   ],
   "source": [
    "a = int(input(\"Enter side-1 of triangle: \"))\n",
    "b = int(input(\"Enter side-2 of triangle: \"))\n",
    "c = int(input(\"Enter side-3 of triangle: \"))\n",
    "\n",
    "if (a+b) > c and (b+c) > a and (c+a) > b:\n",
    "    s = (a+b+c)/2\n",
    "    area= (s*(s-a)*(s-b)*(s-c))**(1/2)\n",
    "    print(f\"The sides of the triangle are: {a}, {b}, and {c}\")\n",
    "    print(f\"The are of the traingle is: {area}\")\n",
    "\n",
    "else:\n",
    "    print(\"Triangle is not possible with entered sides. Enter Correct sides !\")   "
   ]
  },
  {
   "cell_type": "markdown",
   "id": "d3be11c1-7528-42d3-ab51-4cc7adf8c136",
   "metadata": {},
   "source": [
    "# 4. Write a Python program to swap two variables?"
   ]
  },
  {
   "cell_type": "code",
   "execution_count": 21,
   "id": "202c90b9-0555-45a5-8bc5-e79afbf5f4fb",
   "metadata": {},
   "outputs": [
    {
     "name": "stdout",
     "output_type": "stream",
     "text": [
      "original value of a and b is:  5 and 10\n",
      "Swapped value of a and b is:  10 and 5\n"
     ]
    }
   ],
   "source": [
    "a= 5\n",
    "b = 10\n",
    "print(f\"original value of a and b is:  {a} and {b}\")\n",
    "c=0\n",
    "c=b\n",
    "b=a\n",
    "a=c\n",
    "\n",
    "print(f\"Swapped value of a and b is:  {a} and {b}\")\n"
   ]
  },
  {
   "cell_type": "markdown",
   "id": "aa3d74a9-35f4-4dd0-b154-943ce31707ef",
   "metadata": {},
   "source": [
    "# 5. Write a Python program to generate a random number?"
   ]
  },
  {
   "cell_type": "code",
   "execution_count": 22,
   "id": "ae30c99f-464d-4adf-b06c-c6f5f8485b1f",
   "metadata": {},
   "outputs": [],
   "source": [
    "import random"
   ]
  },
  {
   "cell_type": "code",
   "execution_count": 23,
   "id": "76e31698-adfc-4b6b-a115-c317e0f22ba7",
   "metadata": {},
   "outputs": [
    {
     "name": "stdout",
     "output_type": "stream",
     "text": [
      "0.604991141942011\n"
     ]
    }
   ],
   "source": [
    "num = random.random()\n",
    "\n",
    "print(num)"
   ]
  },
  {
   "cell_type": "code",
   "execution_count": 25,
   "id": "e683bb18-86af-433d-bb12-21bf212e7825",
   "metadata": {},
   "outputs": [
    {
     "name": "stdout",
     "output_type": "stream",
     "text": [
      "0.025760303855982825\n"
     ]
    }
   ],
   "source": [
    "num1 = random.random()\n",
    "print(num1)"
   ]
  },
  {
   "cell_type": "code",
   "execution_count": 26,
   "id": "d968cf50-5d3e-43e1-8839-d3b674bc75b3",
   "metadata": {},
   "outputs": [
    {
     "name": "stdout",
     "output_type": "stream",
     "text": [
      "2\n"
     ]
    }
   ],
   "source": [
    "lis = [1,2,3,4,5,6,7,8,9]\n",
    "print(random.choice(lis))"
   ]
  },
  {
   "cell_type": "code",
   "execution_count": 27,
   "id": "584838cc-999a-4937-8cc8-c08899f07464",
   "metadata": {},
   "outputs": [
    {
     "name": "stdout",
     "output_type": "stream",
     "text": [
      "4\n"
     ]
    }
   ],
   "source": [
    "lis = [1,2,3,4,5,6,7,8,9]\n",
    "print(random.choice(lis))"
   ]
  },
  {
   "cell_type": "code",
   "execution_count": 28,
   "id": "5b6b833f-ed00-4ab2-b653-98e9e411ae12",
   "metadata": {},
   "outputs": [
    {
     "name": "stdout",
     "output_type": "stream",
     "text": [
      "i\n"
     ]
    }
   ],
   "source": [
    "abhi = \"abhishek\"\n",
    "print(random.choice(abhi))"
   ]
  },
  {
   "cell_type": "code",
   "execution_count": 29,
   "id": "a16a9245-9ab0-4592-841a-d7e2949f3934",
   "metadata": {},
   "outputs": [
    {
     "name": "stdout",
     "output_type": "stream",
     "text": [
      "b\n"
     ]
    }
   ],
   "source": [
    "abhi = \"abhishek\"\n",
    "print(random.choice(abhi))"
   ]
  },
  {
   "cell_type": "code",
   "execution_count": null,
   "id": "884ac5a7-d6c0-4d73-9511-c2f781232acc",
   "metadata": {},
   "outputs": [],
   "source": []
  }
 ],
 "metadata": {
  "kernelspec": {
   "display_name": "Python 3 (ipykernel)",
   "language": "python",
   "name": "python3"
  },
  "language_info": {
   "codemirror_mode": {
    "name": "ipython",
    "version": 3
   },
   "file_extension": ".py",
   "mimetype": "text/x-python",
   "name": "python",
   "nbconvert_exporter": "python",
   "pygments_lexer": "ipython3",
   "version": "3.10.6"
  }
 },
 "nbformat": 4,
 "nbformat_minor": 5
}
