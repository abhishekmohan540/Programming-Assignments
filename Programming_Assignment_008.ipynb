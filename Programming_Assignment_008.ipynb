{
 "cells": [
  {
   "cell_type": "markdown",
   "id": "5d149747-c5a7-4d8a-b086-5032149e2ba2",
   "metadata": {},
   "source": [
    "# 1. Write a Python Program to Add Two Matrices?\n"
   ]
  },
  {
   "cell_type": "code",
   "execution_count": 7,
   "id": "5cfb25f9-ba56-4945-b245-884776037bf6",
   "metadata": {},
   "outputs": [
    {
     "name": "stdout",
     "output_type": "stream",
     "text": [
      "The sum of two matrices [[1, 2, 3], [4, 5, 6], [7, 8, 9]] and [[4, 5, 6], [1, 2, 3], [8, 4, 1]] is : [[5, 7, 9], [5, 7, 9], [15, 12, 10]] \n"
     ]
    }
   ],
   "source": [
    "x = [[1,2,3], [4,5,6], [7,8,9]]\n",
    "\n",
    "y = [[4,5,6], [1,2,3], [8,4,1]]\n",
    "\n",
    "result = [[0,0,0], [0,0,0], [0,0,0]]\n",
    "\n",
    "for i in range(len(x)):   # for column\n",
    "    for j in range(len(x[0])):     # for row\n",
    "        result[i][j] = x[i][j] + y[i][j]\n",
    "        \n",
    "print(\"The sum of two matrices {} and {} is : {} \".format(x,y,result) )\n",
    "\n"
   ]
  },
  {
   "cell_type": "code",
   "execution_count": 6,
   "id": "10c43ed2-bb51-4b25-90f3-8a92779a8688",
   "metadata": {},
   "outputs": [
    {
     "name": "stdout",
     "output_type": "stream",
     "text": [
      "The sum of two matrices [[10, 12, 3], [4, 15, 6], [7, 8, 9]] and [[14, 5, 16], [11, 2, 13], [8, 4, 1]] is : [[24, 17, 19], [15, 17, 19], [15, 12, 10]] \n"
     ]
    }
   ],
   "source": [
    "x = [[10,12,3], [4,15,6], [7,8,9]]\n",
    "\n",
    "y = [[14,5,16], [11,2,13], [8,4,1]]\n",
    "\n",
    "result = [[0,0,0], [0,0,0], [0,0,0]]\n",
    "\n",
    "for i in range(len(x)):   # for column\n",
    "    for j in range(len(x[0])):     # for row\n",
    "        result[i][j] = x[i][j] + y[i][j]\n",
    "        \n",
    "print(\"The sum of two matrices {} and {} is : {} \".format(x,y,result) )\n",
    "\n"
   ]
  },
  {
   "cell_type": "code",
   "execution_count": 5,
   "id": "ae541330-3736-4f33-a8cc-6e15f0e71d21",
   "metadata": {},
   "outputs": [
    {
     "name": "stdout",
     "output_type": "stream",
     "text": [
      "The sum of two matrices [[1, 2, 3], [4, 5, 6], [7, 8, 9], [8, 12, 13]] and [[4, 5, 6], [1, 2, 3], [8, 4, 1], [4, 3, 2]] is : [[5, 7, 9], [5, 7, 9], [15, 12, 10], [12, 15, 15]] \n"
     ]
    }
   ],
   "source": [
    "x = [[1,2,3], [4,5,6], [7,8,9],[8,12,13]]\n",
    "\n",
    "y= [[4,5,6], [1,2,3], [8,4,1], [4,3,2]]\n",
    "\n",
    "result = [[0,0,0], [0,0,0], [0,0,0], [0,0,0]]\n",
    "\n",
    "for i in range(len(x)):   # for column\n",
    "    for j in range(len(x[0])):     # for row\n",
    "        result[i][j] = x[i][j] + y[i][j]\n",
    "        \n",
    "print(\"The sum of two matrices {} and {} is : {} \".format(x,y,result) )\n",
    "\n"
   ]
  },
  {
   "cell_type": "code",
   "execution_count": null,
   "id": "69bfc83f-94d0-408d-98ec-19363e2418a8",
   "metadata": {},
   "outputs": [],
   "source": []
  },
  {
   "cell_type": "markdown",
   "id": "e75feb1c-035d-4314-84ae-b8d1afb12dc0",
   "metadata": {},
   "source": [
    "# 2. Write a Python Program to Multiply Two Matrices?\n"
   ]
  },
  {
   "cell_type": "code",
   "execution_count": 3,
   "id": "9ec82e0a-f520-4958-8450-4d1d44631786",
   "metadata": {},
   "outputs": [
    {
     "name": "stdout",
     "output_type": "stream",
     "text": [
      "The produvt of two matices [[2, 7, 3], [4, 5, 6], [8, 8, 9]] and [[5, 8, 1, 2], [6, 9, 3, 0], [4, 4, 9, 1]] is:  [[64, 91, 50, 7], [74, 101, 73, 14], [124, 172, 113, 25]]\n"
     ]
    }
   ],
   "source": [
    "x = [[2, 7, 3],[4, 5, 6], [8, 8, 9]]\n",
    "\n",
    "y = [[5, 8, 1, 2], [6, 9, 3, 0], [4, 4, 9, 1]]\n",
    "\t\n",
    "result = [[0, 0, 0, 0], [0, 0, 0, 0], [0, 0, 0, 0]]\n",
    "\n",
    "for i in range(len(x)):\n",
    "    for j in range(len(y[0])):\n",
    "        for k in range(len(y)):\n",
    "            result[i][j] += x[i][k] * y[k][j]\n",
    "print(\"The produvt of two matices {} and {} is:  {}\".format(x,y,result))\n"
   ]
  },
  {
   "cell_type": "code",
   "execution_count": 4,
   "id": "6d27346d-3e8c-4a67-be9f-227db9c1abe6",
   "metadata": {},
   "outputs": [
    {
     "name": "stdout",
     "output_type": "stream",
     "text": [
      "The produvt of two matices [[3, 7, 13], [4, 5, 16], [8, 4, 9]] and [[15, 8, 1, 2], [6, 9, 3, 0], [4, 3, 9, 1]] is:  [[139, 126, 141, 19], [154, 125, 163, 24], [180, 127, 101, 25]]\n"
     ]
    }
   ],
   "source": [
    "x = [[3, 7, 13],[4, 5, 16], [8, 4, 9]]\n",
    "\n",
    "y = [[15, 8, 1, 2], [6, 9, 3, 0], [4, 3, 9, 1]]\n",
    "\t\n",
    "result = [[0, 0, 0, 0], [0, 0, 0, 0], [0, 0, 0, 0]]\n",
    "\n",
    "for i in range(len(x)):\n",
    "    for j in range(len(y[0])):\n",
    "        for k in range(len(y)):\n",
    "            result[i][j] += x[i][k] * y[k][j]\n",
    "print(\"The produvt of two matices {} and {} is:  {}\".format(x,y,result))"
   ]
  },
  {
   "cell_type": "code",
   "execution_count": null,
   "id": "b44313d5-1da1-4d48-8b00-fb9f40e14824",
   "metadata": {},
   "outputs": [],
   "source": []
  },
  {
   "cell_type": "code",
   "execution_count": null,
   "id": "d7aa6513-b2bb-45c0-9827-65d8d3da56db",
   "metadata": {},
   "outputs": [],
   "source": []
  },
  {
   "cell_type": "markdown",
   "id": "ec7b7ea3-de42-4805-8b1b-abb5723d4b75",
   "metadata": {},
   "source": [
    "# 3. Write a Python Program to Transpose a Matrix?\n"
   ]
  },
  {
   "cell_type": "code",
   "execution_count": 3,
   "id": "5f7466a8-ed07-4d3b-94ba-2f4af004e6a6",
   "metadata": {},
   "outputs": [
    {
     "name": "stdout",
     "output_type": "stream",
     "text": [
      "The transpose of matrice [[1, 2, 3], [4, 5, 6], [7, 8, 9]]  is : [[1, 4, 7], [2, 5, 8], [3, 6, 9]] \n"
     ]
    }
   ],
   "source": [
    "x = [[1,2,3], [4,5,6], [7,8,9]]\n",
    "\n",
    "result = [[0,0,0], [0,0,0], [0,0,0]]\n",
    "\n",
    "for i in range(len(x)):   \n",
    "    for j in range(len(x[0])):    \n",
    "        result[i][j] = x[j][i]\n",
    "        \n",
    "print(\"The transpose of matrice {}  is : {} \".format(x,result) )\n",
    "\n"
   ]
  },
  {
   "cell_type": "code",
   "execution_count": 4,
   "id": "e08ef393-b6d0-4411-93f8-2812d4f57728",
   "metadata": {},
   "outputs": [
    {
     "name": "stdout",
     "output_type": "stream",
     "text": [
      "The transpose of matrice [[10, 20, 30], [14, 15, 16], [27, 28, 39]]  is : [[10, 14, 27], [20, 15, 28], [30, 16, 39]] \n"
     ]
    }
   ],
   "source": [
    "x = [[10,20,30], [14,15,16], [27,28,39]]\n",
    "\n",
    "result = [[0,0,0], [0,0,0], [0,0,0]]\n",
    "\n",
    "for i in range(len(x)):   \n",
    "    for j in range(len(x[0])):    \n",
    "        result[i][j] = x[j][i]\n",
    "        \n",
    "print(\"The transpose of matrice {}  is : {} \".format(x,result) )\n",
    "\n"
   ]
  },
  {
   "cell_type": "code",
   "execution_count": null,
   "id": "b47c28d9-7068-4b28-8368-ed444363e36a",
   "metadata": {},
   "outputs": [],
   "source": []
  },
  {
   "cell_type": "markdown",
   "id": "304f66b1-69b7-4fec-ad4e-9bde43d10585",
   "metadata": {},
   "source": [
    "# 4. Write a Python Program to Sort Words in Alphabetic Order?\n"
   ]
  },
  {
   "cell_type": "code",
   "execution_count": 19,
   "id": "90784668-16e0-4c98-ad9e-21fc29f36d5e",
   "metadata": {},
   "outputs": [
    {
     "name": "stdout",
     "output_type": "stream",
     "text": [
      "['apple', 'banana', 'grapes', 'guava', 'orange', 'papaya', 'watermelon']\n"
     ]
    }
   ],
   "source": [
    "words = [\"orange\", \"guava\", \"Apple\", \"papaya\", \"banana\", \"Grapes\", \"watermelon\"]\n",
    "new_words = []\n",
    "for i in words:\n",
    "    new_words.append(i.lower())\n",
    "\n",
    "print(sorted(new_words))"
   ]
  },
  {
   "cell_type": "code",
   "execution_count": 18,
   "id": "0dd6a428-c53a-4f6a-aa2c-aca025bc4c4b",
   "metadata": {},
   "outputs": [
    {
     "name": "stdout",
     "output_type": "stream",
     "text": [
      "['buffalo', 'cat', 'cow', 'dog', 'elephant', 'lion', 'zebra']\n"
     ]
    }
   ],
   "source": [
    "words = [\"zebra\", \"Lion\", \"cat\", \"elephant\", \"DOG\", \"cow\",\"Buffalo\"]\n",
    "new_words = []\n",
    "for i in words:\n",
    "    new_words.append(i.lower())\n",
    "\n",
    "print(sorted(new_words))"
   ]
  },
  {
   "cell_type": "code",
   "execution_count": null,
   "id": "7c7df790-eb79-4c5c-8863-5f78358ead3f",
   "metadata": {},
   "outputs": [],
   "source": []
  },
  {
   "cell_type": "markdown",
   "id": "468478b9-54c1-4dce-9b81-c4e719b1d3ec",
   "metadata": {},
   "source": [
    "# 5. Write a Python Program to Remove Punctuation From a String?"
   ]
  },
  {
   "cell_type": "code",
   "execution_count": 2,
   "id": "30c06c8e-ba72-48fa-a84a-b7d25712b10b",
   "metadata": {},
   "outputs": [
    {
     "name": "stdout",
     "output_type": "stream",
     "text": [
      "The original string is : I, Am a student of <FSDS>-2.0 class @ Ineuron !\n",
      "The string after punctuation : I Am a student of FSDS20 class  Ineuron \n"
     ]
    }
   ],
   "source": [
    "string = \"I, Am a student of <FSDS>-2.0 class @ Ineuron !\"\n",
    "\n",
    "print(\"The original string is : \" + string)\n",
    "\n",
    "punc = '''!()-[]{};:'\"\\,<>./?@#$%^&*_~'''\n",
    "\n",
    "for ele in string:\n",
    "    if ele in punc:\n",
    "        string = string.replace(ele, \"\")\n",
    "        \n",
    "print(\"The string after punctuation : \" + string)\n"
   ]
  },
  {
   "cell_type": "code",
   "execution_count": 3,
   "id": "ce888409-23f6-48f7-a22b-b8db8e930b1e",
   "metadata": {},
   "outputs": [
    {
     "name": "stdout",
     "output_type": "stream",
     "text": [
      "The original string is : Hello ! This is <python> class of data_science course %\n",
      "The string after punctuation : Hello  This is python class of datascience course \n"
     ]
    }
   ],
   "source": [
    "string = \"Hello ! This is <python> class of data_science course %\"\n",
    "\n",
    "print(\"The original string is : \" + string)\n",
    "\n",
    "punc = '''!()-[]{};:'\"\\,<>./?@#$%^&*_~'''\n",
    "\n",
    "for ele in string:\n",
    "    if ele in punc:\n",
    "        string = string.replace(ele, \"\")\n",
    "        \n",
    "print(\"The string after punctuation : \" + string)\n"
   ]
  },
  {
   "cell_type": "markdown",
   "id": "53e3ed64-e1ac-4de9-acca-863bb0401a32",
   "metadata": {},
   "source": [
    "# End of Assignment"
   ]
  }
 ],
 "metadata": {
  "kernelspec": {
   "display_name": "Python 3 (ipykernel)",
   "language": "python",
   "name": "python3"
  },
  "language_info": {
   "codemirror_mode": {
    "name": "ipython",
    "version": 3
   },
   "file_extension": ".py",
   "mimetype": "text/x-python",
   "name": "python",
   "nbconvert_exporter": "python",
   "pygments_lexer": "ipython3",
   "version": "3.10.6"
  }
 },
 "nbformat": 4,
 "nbformat_minor": 5
}
