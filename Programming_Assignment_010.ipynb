{
 "cells": [
  {
   "cell_type": "markdown",
   "id": "bf1d96a7-908b-4a01-86c0-6aa02faafa6c",
   "metadata": {},
   "source": [
    "    1. Write a Python program to find sum of elements in list?\n",
    "    2. Write a Python program to Multiply all numbers in the list?\n",
    "    3. Write a Python program to find smallest number in a list?\n",
    "    4. Write a Python program to find largest number in a list?\n",
    "    5. Write a Python program to find second largest number in a list?\n",
    "    6. Write a Python program to find N largest elements from a list?\n",
    "    7. Write a Python program to print even numbers in a list?\n",
    "    8. Write a Python program to print odd numbers in a List?\n",
    "    9. Write a Python program to Remove empty List from List?\n",
    "    10. Write a Python program to Cloning or Copying a list?\n",
    "    11. Write a Python program to Count occurrences of an element in a list?"
   ]
  },
  {
   "cell_type": "markdown",
   "id": "81f7b868-db79-4c2e-aac1-9fc73146eab4",
   "metadata": {},
   "source": [
    "## Solution-01"
   ]
  },
  {
   "cell_type": "code",
   "execution_count": 1,
   "id": "c2b818d6-04d9-4b6c-8ca2-08f41b59617a",
   "metadata": {},
   "outputs": [],
   "source": [
    "lis = [0,1,2,3,4,5,6,7,8,9]"
   ]
  },
  {
   "cell_type": "code",
   "execution_count": 4,
   "id": "cf162f15-72ce-41ff-a9b2-7ef824488e2c",
   "metadata": {},
   "outputs": [],
   "source": [
    "def Sum_Lis(l):\n",
    "    sum = 0\n",
    "    for i in l:\n",
    "        sum += i\n",
    "    return sum    \n"
   ]
  },
  {
   "cell_type": "code",
   "execution_count": 5,
   "id": "fcadebf8-ef1e-4a80-9c86-b16d65d1e084",
   "metadata": {},
   "outputs": [
    {
     "data": {
      "text/plain": [
       "45"
      ]
     },
     "execution_count": 5,
     "metadata": {},
     "output_type": "execute_result"
    }
   ],
   "source": [
    "Sum_Lis(lis)"
   ]
  },
  {
   "cell_type": "markdown",
   "id": "7dafaa5d-7364-4094-ba42-2c3d302649d6",
   "metadata": {},
   "source": [
    "## Solution-02"
   ]
  },
  {
   "cell_type": "code",
   "execution_count": 6,
   "id": "a34f814f-fa1b-41f7-bffe-f41fafa30ac2",
   "metadata": {},
   "outputs": [],
   "source": [
    "def Mul_Lis(l):\n",
    "    prod = 1\n",
    "    for i in l:\n",
    "        prod = prod * i\n",
    "    return prod"
   ]
  },
  {
   "cell_type": "code",
   "execution_count": 8,
   "id": "2b42651e-b769-4a22-8b95-735a0f2e360e",
   "metadata": {},
   "outputs": [
    {
     "data": {
      "text/plain": [
       "120"
      ]
     },
     "execution_count": 8,
     "metadata": {},
     "output_type": "execute_result"
    }
   ],
   "source": [
    "Mul_Lis([4,5,6])"
   ]
  },
  {
   "cell_type": "code",
   "execution_count": 9,
   "id": "a255d624-835c-4888-98c6-abd18c39f219",
   "metadata": {},
   "outputs": [
    {
     "data": {
      "text/plain": [
       "5040"
      ]
     },
     "execution_count": 9,
     "metadata": {},
     "output_type": "execute_result"
    }
   ],
   "source": [
    "Mul_Lis([1,2,3,4,5,6,7])"
   ]
  },
  {
   "cell_type": "markdown",
   "id": "a2b26013-3a82-4f53-9b00-5a95c3e4308a",
   "metadata": {},
   "source": [
    "## Solution-03"
   ]
  },
  {
   "cell_type": "code",
   "execution_count": 31,
   "id": "3a9807f6-bb3a-41f6-a94c-d9bf63cc46d7",
   "metadata": {},
   "outputs": [],
   "source": [
    "def Small_Lis(l):\n",
    "    small = l[0] \n",
    "    for i in range(len(l)):\n",
    "        if l[i] < small:\n",
    "            small = l[i]\n",
    "        else:\n",
    "            continue\n",
    "    return small        \n",
    "            "
   ]
  },
  {
   "cell_type": "code",
   "execution_count": 32,
   "id": "68bd4b56-31a0-4e37-9a29-8a5e2b628e73",
   "metadata": {},
   "outputs": [
    {
     "data": {
      "text/plain": [
       "1"
      ]
     },
     "execution_count": 32,
     "metadata": {},
     "output_type": "execute_result"
    }
   ],
   "source": [
    "Small_Lis([5,6,4,1,70,100,2])"
   ]
  },
  {
   "cell_type": "code",
   "execution_count": 33,
   "id": "cb3e2618-07ae-48a9-94b6-923523653c82",
   "metadata": {},
   "outputs": [
    {
     "data": {
      "text/plain": [
       "0"
      ]
     },
     "execution_count": 33,
     "metadata": {},
     "output_type": "execute_result"
    }
   ],
   "source": [
    "Small_Lis([10,11,100,0,15])"
   ]
  },
  {
   "cell_type": "code",
   "execution_count": 34,
   "id": "cbf1a0ee-7985-45cb-961e-2e41f381af34",
   "metadata": {},
   "outputs": [
    {
     "data": {
      "text/plain": [
       "11.11"
      ]
     },
     "execution_count": 34,
     "metadata": {},
     "output_type": "execute_result"
    }
   ],
   "source": [
    "Small_Lis([100,115,45,56,25,56.23,11.11,200])"
   ]
  },
  {
   "cell_type": "markdown",
   "id": "2b02dfee-9a10-4fad-95e2-07df4aee38b5",
   "metadata": {},
   "source": [
    "## Solution-04"
   ]
  },
  {
   "cell_type": "code",
   "execution_count": 35,
   "id": "0375d81c-a4e4-450f-a63c-bfb620cd8707",
   "metadata": {},
   "outputs": [],
   "source": [
    "def Large_Lis(l):\n",
    "    largest =l[0]\n",
    "    for i in range(len(l)):\n",
    "        if l[i] > largest:\n",
    "            largest = l[i]\n",
    "        else:\n",
    "            continue\n",
    "    return largest        \n",
    "            "
   ]
  },
  {
   "cell_type": "code",
   "execution_count": 36,
   "id": "ad49faf2-8e44-48ba-b558-8509aacac82a",
   "metadata": {},
   "outputs": [
    {
     "data": {
      "text/plain": [
       "70"
      ]
     },
     "execution_count": 36,
     "metadata": {},
     "output_type": "execute_result"
    }
   ],
   "source": [
    "Large_Lis([11,45,65,70,12,40])"
   ]
  },
  {
   "cell_type": "code",
   "execution_count": 37,
   "id": "0bffa7ed-431b-4c76-951d-0d93c956425f",
   "metadata": {},
   "outputs": [
    {
     "data": {
      "text/plain": [
       "100"
      ]
     },
     "execution_count": 37,
     "metadata": {},
     "output_type": "execute_result"
    }
   ],
   "source": [
    "Large_Lis([5,15,1,88,20,100,3,5])"
   ]
  },
  {
   "cell_type": "markdown",
   "id": "551741fe-088d-4e5a-8385-25d8aa101ec6",
   "metadata": {},
   "source": [
    "## Solution-05"
   ]
  },
  {
   "cell_type": "code",
   "execution_count": 57,
   "id": "d806206e-4f9b-4d32-aead-373a4ae82f04",
   "metadata": {},
   "outputs": [],
   "source": [
    "def Second_large(l):\n",
    "    lis = []\n",
    "    lis = sorted(l)\n",
    "    n = len(lis)\n",
    "    result = lis[n-2]\n",
    "    return result\n",
    "    \n",
    "    "
   ]
  },
  {
   "cell_type": "code",
   "execution_count": 58,
   "id": "940e8ead-592f-4c65-9413-411f455966ac",
   "metadata": {},
   "outputs": [
    {
     "data": {
      "text/plain": [
       "5"
      ]
     },
     "execution_count": 58,
     "metadata": {},
     "output_type": "execute_result"
    }
   ],
   "source": [
    "Second_large([5,4,7,1,3])"
   ]
  },
  {
   "cell_type": "code",
   "execution_count": 59,
   "id": "bf533876-14d4-4086-bfd3-6fc98bc360b8",
   "metadata": {},
   "outputs": [
    {
     "data": {
      "text/plain": [
       "99"
      ]
     },
     "execution_count": 59,
     "metadata": {},
     "output_type": "execute_result"
    }
   ],
   "source": [
    "Second_large([12,15,75,45,100,99,35])"
   ]
  },
  {
   "cell_type": "markdown",
   "id": "52f3f757-d2d9-4103-8136-b911c1149606",
   "metadata": {},
   "source": [
    "## Solution-06"
   ]
  },
  {
   "cell_type": "code",
   "execution_count": 75,
   "id": "f300bbfd-e45b-483b-8eed-e8d1689de913",
   "metadata": {},
   "outputs": [],
   "source": [
    "def N_large(l):\n",
    "    n = len(l)\n",
    "    inp = int(input(\"ENter how many largest number you want ?\"))\n",
    "    if inp>n:\n",
    "        print(\"Enter within length of list !\")\n",
    "    else:\n",
    "        \n",
    "        lis = []\n",
    "        lis = sorted(l)\n",
    "        result = lis[(n-inp):n]\n",
    "        return result\n",
    "    \n",
    "    "
   ]
  },
  {
   "cell_type": "code",
   "execution_count": 76,
   "id": "95c4f538-db89-4c08-b248-1dad27b34ee7",
   "metadata": {},
   "outputs": [
    {
     "name": "stdin",
     "output_type": "stream",
     "text": [
      "ENter how many largest number you want ? 10\n"
     ]
    },
    {
     "data": {
      "text/plain": [
       "[1, 5, 7, 8, 9, 10, 12, 25, 26, 45]"
      ]
     },
     "execution_count": 76,
     "metadata": {},
     "output_type": "execute_result"
    }
   ],
   "source": [
    "N_large([1,5,8,7,10,12,9,45,25,26])"
   ]
  },
  {
   "cell_type": "code",
   "execution_count": 77,
   "id": "5d3bd357-0439-4b43-8eae-f4e836834c84",
   "metadata": {},
   "outputs": [
    {
     "name": "stdin",
     "output_type": "stream",
     "text": [
      "ENter how many largest number you want ? 3\n"
     ]
    },
    {
     "data": {
      "text/plain": [
       "[25, 26, 45]"
      ]
     },
     "execution_count": 77,
     "metadata": {},
     "output_type": "execute_result"
    }
   ],
   "source": [
    "N_large([1,5,8,7,10,12,9,45,25,26])"
   ]
  },
  {
   "cell_type": "code",
   "execution_count": 79,
   "id": "ae84db24-d539-4df2-aa97-46a8483b1846",
   "metadata": {},
   "outputs": [
    {
     "name": "stdin",
     "output_type": "stream",
     "text": [
      "ENter how many largest number you want ? 5\n"
     ]
    },
    {
     "data": {
      "text/plain": [
       "[10, 12, 25, 26, 45]"
      ]
     },
     "execution_count": 79,
     "metadata": {},
     "output_type": "execute_result"
    }
   ],
   "source": [
    "N_large([1,5,8,7,10,12,9,45,25,26])"
   ]
  },
  {
   "cell_type": "code",
   "execution_count": 80,
   "id": "a5d545ca-0d7c-4196-acb4-6026cb8aeb6e",
   "metadata": {},
   "outputs": [
    {
     "name": "stdin",
     "output_type": "stream",
     "text": [
      "ENter how many largest number you want ? 15\n"
     ]
    },
    {
     "name": "stdout",
     "output_type": "stream",
     "text": [
      "Enter within length of list !\n"
     ]
    }
   ],
   "source": [
    "N_large([1,5,8,7,10,12,9,45,25,26])"
   ]
  },
  {
   "cell_type": "markdown",
   "id": "147e49de-6b59-4272-9e89-b2ad95d0e187",
   "metadata": {},
   "source": [
    "## Solution-07"
   ]
  },
  {
   "cell_type": "code",
   "execution_count": 81,
   "id": "219d10e3-12bd-4a0d-b881-d44c35bf0c59",
   "metadata": {},
   "outputs": [],
   "source": [
    "def Even_Lis(l):\n",
    "    lis = []\n",
    "    for i in l:\n",
    "        if i % 2 ==0:\n",
    "            lis.append(i)\n",
    "    return lis        \n",
    "            "
   ]
  },
  {
   "cell_type": "code",
   "execution_count": 82,
   "id": "0eacfb10-fd3e-493e-bd58-69d6b1e6b0b4",
   "metadata": {},
   "outputs": [
    {
     "data": {
      "text/plain": [
       "[2, 4, 6, 8, 10]"
      ]
     },
     "execution_count": 82,
     "metadata": {},
     "output_type": "execute_result"
    }
   ],
   "source": [
    "Even_Lis([1,2,4,5,6,7,8,10])"
   ]
  },
  {
   "cell_type": "code",
   "execution_count": 83,
   "id": "4ae69729-56b3-458b-94e8-f466176fb1f2",
   "metadata": {},
   "outputs": [
    {
     "data": {
      "text/plain": [
       "[100, 200, 300]"
      ]
     },
     "execution_count": 83,
     "metadata": {},
     "output_type": "execute_result"
    }
   ],
   "source": [
    "Even_Lis([100,115,200,225,300])"
   ]
  },
  {
   "cell_type": "markdown",
   "id": "e51e364d-ecab-4405-ae08-abb4147f93b9",
   "metadata": {},
   "source": [
    "## Solution-08"
   ]
  },
  {
   "cell_type": "code",
   "execution_count": 84,
   "id": "2ed62051-7080-444d-84b0-97086c933c8c",
   "metadata": {},
   "outputs": [],
   "source": [
    "def Odd_Lis(l):\n",
    "    lis = []\n",
    "    for i in l:\n",
    "        if i % 2 !=0:\n",
    "            lis.append(i)\n",
    "    return lis        \n",
    "            "
   ]
  },
  {
   "cell_type": "code",
   "execution_count": 85,
   "id": "3717d351-b02a-4764-8468-8ebd85181011",
   "metadata": {},
   "outputs": [
    {
     "data": {
      "text/plain": [
       "[5, 7, 9, 11]"
      ]
     },
     "execution_count": 85,
     "metadata": {},
     "output_type": "execute_result"
    }
   ],
   "source": [
    "Odd_Lis([5,6,7,8,9,11])"
   ]
  },
  {
   "cell_type": "code",
   "execution_count": 86,
   "id": "fad7203e-bf74-4b05-936c-4bb971f316b8",
   "metadata": {},
   "outputs": [
    {
     "data": {
      "text/plain": [
       "[1, 17, 19, 21]"
      ]
     },
     "execution_count": 86,
     "metadata": {},
     "output_type": "execute_result"
    }
   ],
   "source": [
    "Odd_Lis([1,14,17,19,21,20])"
   ]
  },
  {
   "cell_type": "markdown",
   "id": "bb88e4a0-fb85-40d2-8f58-1512cd8a1ac6",
   "metadata": {},
   "source": [
    "## Solution-09"
   ]
  },
  {
   "cell_type": "code",
   "execution_count": 6,
   "id": "5148ab0f-3f8a-40bb-a32f-b6312e7939cd",
   "metadata": {},
   "outputs": [],
   "source": [
    "def Empty_Lis(l):\n",
    "    n=len(l)\n",
    "    i =0\n",
    "    while i < n:\n",
    "        if type(l[i])==list:\n",
    "            if len(l[i]) == 0:  #empty list\n",
    "                l.remove(l[i])\n",
    "                n = len(l)\n",
    "        i = i+1\n",
    "    return l"
   ]
  },
  {
   "cell_type": "code",
   "execution_count": 7,
   "id": "e2d61f5d-9878-4b8c-abb4-2cab219f48c9",
   "metadata": {},
   "outputs": [
    {
     "data": {
      "text/plain": [
       "[[1, 2], [3, 4]]"
      ]
     },
     "execution_count": 7,
     "metadata": {},
     "output_type": "execute_result"
    }
   ],
   "source": [
    "Empty_Lis([[1,2],[3,4]])"
   ]
  },
  {
   "cell_type": "code",
   "execution_count": 8,
   "id": "392518b7-51a9-403d-92a0-9d7948058acb",
   "metadata": {},
   "outputs": [
    {
     "data": {
      "text/plain": [
       "[[1, 2, 3], [4, 5], [7, 8, 9]]"
      ]
     },
     "execution_count": 8,
     "metadata": {},
     "output_type": "execute_result"
    }
   ],
   "source": [
    "Empty_Lis([[1,2,3],[],[4,5],[7,8,9],[]])"
   ]
  },
  {
   "cell_type": "code",
   "execution_count": 10,
   "id": "0840115d-d6fc-4be9-87b7-e2f7118090a5",
   "metadata": {},
   "outputs": [
    {
     "data": {
      "text/plain": [
       "[[1, 2, 3], [4, 5, 6, 7]]"
      ]
     },
     "execution_count": 10,
     "metadata": {},
     "output_type": "execute_result"
    }
   ],
   "source": [
    "Empty_Lis([[], [1,2,3],[],[4,5,6,7]])"
   ]
  },
  {
   "cell_type": "code",
   "execution_count": null,
   "id": "9de6bb2f-def1-4468-9c37-41ca61486789",
   "metadata": {},
   "outputs": [],
   "source": []
  },
  {
   "cell_type": "markdown",
   "id": "85d4f91f-7f05-4265-b6fa-ac7b2e37c1cb",
   "metadata": {},
   "source": [
    "## Solution-10"
   ]
  },
  {
   "cell_type": "code",
   "execution_count": 8,
   "id": "6ef28e84-0f66-4bf0-995c-7d66005c39cf",
   "metadata": {},
   "outputs": [
    {
     "name": "stdout",
     "output_type": "stream",
     "text": [
      "Original list is:  [1, 2, 3, 4, 5, 6]\n",
      "After Cloning, list is : [1, 2, 3, 4, 5, 6]\n"
     ]
    }
   ],
   "source": [
    "def Copy_Lis(l):\n",
    "    lis = list()\n",
    "    for i in l:\n",
    "        lis.append(i)\n",
    "    return lis\n",
    "\n",
    "l= [1,2,3,4,5,6]\n",
    "l2= Copy_Lis(l)\n",
    "\n",
    "print(\"Original list is: \", l)\n",
    "print(\"After Cloning, list is :\", l2)"
   ]
  },
  {
   "cell_type": "code",
   "execution_count": null,
   "id": "3c837bc5-a7cd-45d5-9461-77b93b289e28",
   "metadata": {},
   "outputs": [],
   "source": []
  },
  {
   "cell_type": "markdown",
   "id": "5efe6ea5-bd8d-4853-8962-58ccc888d1d4",
   "metadata": {},
   "source": [
    "## Solution-11"
   ]
  },
  {
   "cell_type": "code",
   "execution_count": 16,
   "id": "9d609ef0-828f-46f8-85cd-194174825d43",
   "metadata": {},
   "outputs": [],
   "source": [
    "def Count_Occurance(l):\n",
    "    for i in l:\n",
    "        if l.count(i) > 1:\n",
    "            print(f\"The element {i} is repeated {l.count(i)} times in the list\")\n",
    "        "
   ]
  },
  {
   "cell_type": "code",
   "execution_count": 17,
   "id": "04d551eb-3d92-448e-8a0a-62adb2a0d015",
   "metadata": {},
   "outputs": [
    {
     "name": "stdout",
     "output_type": "stream",
     "text": [
      "The element 2 is repeated 3 times in the list\n",
      "The element 2 is repeated 3 times in the list\n",
      "The element 2 is repeated 3 times in the list\n",
      "The element 3 is repeated 2 times in the list\n",
      "The element 4 is repeated 2 times in the list\n",
      "The element 4 is repeated 2 times in the list\n",
      "The element 3 is repeated 2 times in the list\n",
      "The element 8 is repeated 2 times in the list\n",
      "The element 8 is repeated 2 times in the list\n"
     ]
    }
   ],
   "source": [
    "Count_Occurance( [2,2,2,3,4,5,4,3,8,8,9])"
   ]
  },
  {
   "cell_type": "code",
   "execution_count": null,
   "id": "33e8fe5b-00a7-4826-96de-a372b2acdb00",
   "metadata": {},
   "outputs": [],
   "source": []
  },
  {
   "cell_type": "markdown",
   "id": "300e0636-ddac-463b-b2e8-be7404c17752",
   "metadata": {},
   "source": [
    "## End of Assignment"
   ]
  }
 ],
 "metadata": {
  "kernelspec": {
   "display_name": "Python 3 (ipykernel)",
   "language": "python",
   "name": "python3"
  },
  "language_info": {
   "codemirror_mode": {
    "name": "ipython",
    "version": 3
   },
   "file_extension": ".py",
   "mimetype": "text/x-python",
   "name": "python",
   "nbconvert_exporter": "python",
   "pygments_lexer": "ipython3",
   "version": "3.10.6"
  }
 },
 "nbformat": 4,
 "nbformat_minor": 5
}
