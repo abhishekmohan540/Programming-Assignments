{
 "cells": [
  {
   "cell_type": "markdown",
   "id": "ca2aaacb-e2ed-4d8a-83c1-10fe90ddcfa9",
   "metadata": {},
   "source": [
    "    Question 1:\n",
    "    Define a class with a generator which can iterate the numbers, which are divisible by\n",
    "    7, between a given range 0 and n."
   ]
  },
  {
   "cell_type": "code",
   "execution_count": 1,
   "id": "25d84f9f-1455-44e7-89a9-8478e761cb17",
   "metadata": {},
   "outputs": [],
   "source": [
    "class DivisibleBySeven:\n",
    "    def __init__(self, n):\n",
    "        self.n = n\n",
    "\n",
    "    def divisible_by_seven_generator(self):\n",
    "        for num in range(self.n + 1):\n",
    "            if num % 7 == 0:\n",
    "                yield num\n"
   ]
  },
  {
   "cell_type": "code",
   "execution_count": 2,
   "id": "75699a68-26bf-46e0-987f-e2500389586b",
   "metadata": {},
   "outputs": [
    {
     "name": "stdout",
     "output_type": "stream",
     "text": [
      "0\n",
      "7\n",
      "14\n",
      "21\n",
      "28\n",
      "35\n",
      "42\n",
      "49\n"
     ]
    }
   ],
   "source": [
    "divisible_nums = DivisibleBySeven(50)\n",
    "generator = divisible_nums.divisible_by_seven_generator()\n",
    "\n",
    "for num in generator:\n",
    "    print(num)\n"
   ]
  },
  {
   "cell_type": "markdown",
   "id": "e6b268b1-a69f-4fd4-89da-8c976924369c",
   "metadata": {},
   "source": [
    "    Question 2:\n",
    "    Write a program to compute the frequency of the words from the input. The output\n",
    "    should output after sorting the key alphanumerically."
   ]
  },
  {
   "cell_type": "code",
   "execution_count": 3,
   "id": "a95692a5-2a38-46fd-b6e9-157c8c24cc4c",
   "metadata": {},
   "outputs": [
    {
     "name": "stdin",
     "output_type": "stream",
     "text": [
      "Enter a sentence:  New to Python or choosing between Python 2 and Python 3? Read Python 2 or Python 3.\n"
     ]
    },
    {
     "name": "stdout",
     "output_type": "stream",
     "text": [
      "2: 2\n",
      "3: 2\n",
      "and: 1\n",
      "between: 1\n",
      "choosing: 1\n",
      "new: 1\n",
      "or: 2\n",
      "python: 5\n",
      "read: 1\n",
      "to: 1\n"
     ]
    }
   ],
   "source": [
    "import re\n",
    "from collections import defaultdict\n",
    "\n",
    "def word_frequency_counter():\n",
    "    input_text = input(\"Enter a sentence: \")\n",
    "    words = re.findall(r'\\w+', input_text.lower())\n",
    "    \n",
    "    frequency_counter = defaultdict(int)\n",
    "    for word in words:\n",
    "        frequency_counter[word] += 1\n",
    "    \n",
    "    sorted_words = sorted(frequency_counter.keys())\n",
    "    \n",
    "    for word in sorted_words:\n",
    "        print(f\"{word}: {frequency_counter[word]}\")\n",
    "\n",
    "word_frequency_counter()\n"
   ]
  },
  {
   "cell_type": "markdown",
   "id": "1f2a9899-28fe-46b8-b850-6feff81b8fdd",
   "metadata": {},
   "source": [
    "    Question 3:\n",
    "    Define a class Person and its two child classes: Male and Female. All classes have a\n",
    "    method &quot;getGender&quot; which can print &quot;Male&quot; for Male class and &quot;Female&quot; for Female\n",
    "    class."
   ]
  },
  {
   "cell_type": "code",
   "execution_count": 4,
   "id": "7b8f0f55-ec09-42a6-9dbf-f7523ed3d1f5",
   "metadata": {},
   "outputs": [],
   "source": [
    "class Person:\n",
    "    def getGender(self):\n",
    "        print(\"Unknown Gender\")\n",
    "\n",
    "\n",
    "class Male(Person):\n",
    "    def getGender(self):\n",
    "        print(\"Male\")\n",
    "\n",
    "\n",
    "class Female(Person):\n",
    "    def getGender(self):\n",
    "        print(\"Female\")\n"
   ]
  },
  {
   "cell_type": "code",
   "execution_count": 6,
   "id": "f6b86af7-3b70-4646-97cb-c67f5f0db65f",
   "metadata": {},
   "outputs": [
    {
     "name": "stdout",
     "output_type": "stream",
     "text": [
      "Unknown Gender\n"
     ]
    }
   ],
   "source": [
    "person = Person()\n",
    "person.getGender()"
   ]
  },
  {
   "cell_type": "code",
   "execution_count": 7,
   "id": "50b825e0-f75e-4700-aabd-da0aab741a4e",
   "metadata": {},
   "outputs": [
    {
     "name": "stdout",
     "output_type": "stream",
     "text": [
      "Male\n"
     ]
    }
   ],
   "source": [
    "male = Male()\n",
    "male.getGender()"
   ]
  },
  {
   "cell_type": "code",
   "execution_count": 8,
   "id": "b437b243-4ffe-4648-acdf-9e2b2180055a",
   "metadata": {},
   "outputs": [
    {
     "name": "stdout",
     "output_type": "stream",
     "text": [
      "Female\n"
     ]
    }
   ],
   "source": [
    "female = Female()\n",
    "female.getGender()"
   ]
  },
  {
   "cell_type": "markdown",
   "id": "6e622f4c-507e-4e6d-b4c1-73a98a43a9d0",
   "metadata": {},
   "source": [
    "    Question 4:\n",
    "    Please write a program to generate all sentences where subject is in [\"I\",\"You\"] and\n",
    "    verb is in [\"Play\", \"Love\"] and the object is in [\"Hockey\", \"Football\"]."
   ]
  },
  {
   "cell_type": "code",
   "execution_count": 9,
   "id": "68f36a66-d718-4df3-817a-c6e339fb90ff",
   "metadata": {},
   "outputs": [
    {
     "name": "stdout",
     "output_type": "stream",
     "text": [
      "I Play Hockey.\n",
      "I Play Football.\n",
      "I Love Hockey.\n",
      "I Love Football.\n",
      "You Play Hockey.\n",
      "You Play Football.\n",
      "You Love Hockey.\n",
      "You Love Football.\n"
     ]
    }
   ],
   "source": [
    "subjects = [\"I\", \"You\"]\n",
    "verbs = [\"Play\", \"Love\"]\n",
    "objects = [\"Hockey\", \"Football\"]\n",
    "\n",
    "sentences = []\n",
    "\n",
    "for subject in subjects:\n",
    "    for verb in verbs:\n",
    "        for obj in objects:\n",
    "            sentence = f\"{subject} {verb} {obj}.\"\n",
    "            sentences.append(sentence)\n",
    "\n",
    "for sentence in sentences:\n",
    "    print(sentence)\n"
   ]
  },
  {
   "cell_type": "markdown",
   "id": "4337faf2-f629-4686-9694-b63e68316bc8",
   "metadata": {},
   "source": [
    "    Question 5:\n",
    "    Please write a program to compress and decompress the string \"hello world!hello\n",
    "    world!hello world!hello world!\"."
   ]
  },
  {
   "cell_type": "code",
   "execution_count": 10,
   "id": "15055c98-8bd3-4335-aead-ae5cae7dd0dd",
   "metadata": {},
   "outputs": [
    {
     "name": "stdout",
     "output_type": "stream",
     "text": [
      "Original string: hello world!hello world!hello world!hello world!\n",
      "Compressed data: b'x\\x9c\\xcbH\\xcd\\xc9\\xc9W(\\xcf/\\xcaIQ\\xcc \\x82\\r\\x00\\xbd[\\x11\\xf5'\n",
      "Decompressed string: hello world!hello world!hello world!hello world!\n"
     ]
    }
   ],
   "source": [
    "import zlib\n",
    "original_string = \"hello world!hello world!hello world!hello world!\"\n",
    "\n",
    "compressed_data = zlib.compress(original_string.encode())\n",
    "\n",
    "decompressed_data = zlib.decompress(compressed_data).decode()\n",
    "\n",
    "print(\"Original string:\", original_string)\n",
    "print(\"Compressed data:\", compressed_data)\n",
    "print(\"Decompressed string:\", decompressed_data)\n"
   ]
  },
  {
   "cell_type": "markdown",
   "id": "abebbb6b-dae6-497c-a695-472377049c45",
   "metadata": {},
   "source": [
    "    Question 6:\n",
    "    Please write a binary search function which searches an item in a sorted list. The\n",
    "    function should return the index of element to be searched in the list."
   ]
  },
  {
   "cell_type": "code",
   "execution_count": 11,
   "id": "40720cdf-8f51-4230-a160-977e52936847",
   "metadata": {},
   "outputs": [
    {
     "name": "stdout",
     "output_type": "stream",
     "text": [
      "Index of 9: 4\n"
     ]
    }
   ],
   "source": [
    "def binary_search(arr, target):\n",
    "    left = 0\n",
    "    right = len(arr) - 1\n",
    "\n",
    "    while left <= right:\n",
    "        mid = (left + right) // 2\n",
    "\n",
    "        if arr[mid] == target:\n",
    "            return mid\n",
    "        elif arr[mid] < target:\n",
    "            left = mid + 1\n",
    "        else:\n",
    "            right = mid - 1\n",
    "\n",
    "    return -1  \n",
    "\n",
    "sorted_list = [1, 3, 5, 7, 9, 11, 13, 15, 17]\n",
    "target_element = 9\n",
    "\n",
    "index = binary_search(sorted_list, target_element)\n",
    "print(f\"Index of {target_element}: {index}\")\n"
   ]
  },
  {
   "cell_type": "markdown",
   "id": "47877823-b714-41a7-968e-945a96667ff7",
   "metadata": {},
   "source": [
    "## End of Assignment"
   ]
  }
 ],
 "metadata": {
  "kernelspec": {
   "display_name": "Python 3 (ipykernel)",
   "language": "python",
   "name": "python3"
  },
  "language_info": {
   "codemirror_mode": {
    "name": "ipython",
    "version": 3
   },
   "file_extension": ".py",
   "mimetype": "text/x-python",
   "name": "python",
   "nbconvert_exporter": "python",
   "pygments_lexer": "ipython3",
   "version": "3.10.6"
  }
 },
 "nbformat": 4,
 "nbformat_minor": 5
}
